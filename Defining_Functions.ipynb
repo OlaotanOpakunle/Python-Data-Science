{
  "nbformat": 4,
  "nbformat_minor": 0,
  "metadata": {
    "colab": {
      "provenance": [],
      "authorship_tag": "ABX9TyMpXJQ7hZZcgohDZNCWDgL8",
      "include_colab_link": true
    },
    "kernelspec": {
      "name": "python3",
      "display_name": "Python 3"
    },
    "language_info": {
      "name": "python"
    }
  },
  "cells": [
    {
      "cell_type": "markdown",
      "metadata": {
        "id": "view-in-github",
        "colab_type": "text"
      },
      "source": [
        "<a href=\"https://colab.research.google.com/github/OlaotanOpakunle/Python-Data-Science/blob/main/Defining_Functions.ipynb\" target=\"_parent\"><img src=\"https://colab.research.google.com/assets/colab-badge.svg\" alt=\"Open In Colab\"/></a>"
      ]
    },
    {
      "cell_type": "code",
      "execution_count": 19,
      "metadata": {
        "id": "jTY0pnyxkfEt"
      },
      "outputs": [],
      "source": [
        "scores = [90, 73, 43, 100]\n",
        "\n",
        "students = [{\"name\" : \"Andrea\", \"scores\" :[90, 73, 43, 100]},\n",
        "            {\"name\" : \"Astrid\", \"scores\" : [76, 44, 66, 73]},\n",
        "            {\"name\" : \"Beatrice\", \"scores\" : [64, 74, 91, 64]},\n",
        "            {\"name\" : \"Brenda\", \"scores\" : [96, 82, 76, 100]}\n",
        "]"
      ]
    },
    {
      "cell_type": "code",
      "source": [
        "# Q1: Add an average score to each student dictionary in the students list\n",
        "# Q2: Add a passed (True/False) to each dictionary if the student's average score is higher than 70"
      ],
      "metadata": {
        "id": "OZw2lytTk43l"
      },
      "execution_count": 3,
      "outputs": []
    },
    {
      "cell_type": "code",
      "source": [
        "total = sum(scores)"
      ],
      "metadata": {
        "id": "N-UKTXBHmMr0"
      },
      "execution_count": 6,
      "outputs": []
    },
    {
      "cell_type": "code",
      "source": [
        "length = len(scores)"
      ],
      "metadata": {
        "id": "nQS-2CMWmXXk"
      },
      "execution_count": 7,
      "outputs": []
    },
    {
      "cell_type": "code",
      "source": [
        "average = total / length"
      ],
      "metadata": {
        "id": "H7Va1ynVmZQh"
      },
      "execution_count": 8,
      "outputs": []
    },
    {
      "cell_type": "code",
      "source": [
        "print(average)"
      ],
      "metadata": {
        "colab": {
          "base_uri": "https://localhost:8080/"
        },
        "id": "fiOpIcoqmpWB",
        "outputId": "7311ca94-ba37-4bfe-9e8d-80d6af67a654"
      },
      "execution_count": 9,
      "outputs": [
        {
          "output_type": "stream",
          "name": "stdout",
          "text": [
            "76.5\n"
          ]
        }
      ]
    },
    {
      "cell_type": "code",
      "source": [
        "scores2 = [60, 72, 90, 100]"
      ],
      "metadata": {
        "id": "YS0O7YyPmrFT"
      },
      "execution_count": 10,
      "outputs": []
    },
    {
      "cell_type": "code",
      "source": [
        "sum(scores2) / len(scores2)"
      ],
      "metadata": {
        "colab": {
          "base_uri": "https://localhost:8080/"
        },
        "id": "0h3Waulrmx6R",
        "outputId": "9456a995-d042-4ee4-fa91-debb095a2509"
      },
      "execution_count": 11,
      "outputs": [
        {
          "output_type": "execute_result",
          "data": {
            "text/plain": [
              "80.5"
            ]
          },
          "metadata": {},
          "execution_count": 11
        }
      ]
    },
    {
      "cell_type": "code",
      "source": [
        "def getAverage(scoresList): #Function header\n",
        "  avg = sum(scoresList) / len(scoresList)\n",
        "  return avg"
      ],
      "metadata": {
        "id": "9GRNh79pm3a1"
      },
      "execution_count": 12,
      "outputs": []
    },
    {
      "cell_type": "code",
      "source": [
        "getAverage(scores)"
      ],
      "metadata": {
        "colab": {
          "base_uri": "https://localhost:8080/"
        },
        "id": "gPhosqtenhPy",
        "outputId": "0483cb13-96ea-4186-83d2-057004c03de7"
      },
      "execution_count": 13,
      "outputs": [
        {
          "output_type": "execute_result",
          "data": {
            "text/plain": [
              "76.5"
            ]
          },
          "metadata": {},
          "execution_count": 13
        }
      ]
    },
    {
      "cell_type": "code",
      "source": [
        "getAverage(scores2)"
      ],
      "metadata": {
        "colab": {
          "base_uri": "https://localhost:8080/"
        },
        "id": "poXIeDKEnpNn",
        "outputId": "e0974f4a-4c47-4495-f243-df0a475de8aa"
      },
      "execution_count": 14,
      "outputs": [
        {
          "output_type": "execute_result",
          "data": {
            "text/plain": [
              "80.5"
            ]
          },
          "metadata": {},
          "execution_count": 14
        }
      ]
    },
    {
      "cell_type": "code",
      "source": [
        "def didPass(scoreAverage):\n",
        "  if scoreAverage > 70:\n",
        "    return True\n",
        "  else:\n",
        "    return False"
      ],
      "metadata": {
        "id": "eCfj2sFAnsLw"
      },
      "execution_count": 15,
      "outputs": []
    },
    {
      "cell_type": "code",
      "source": [
        "didPass(73)"
      ],
      "metadata": {
        "colab": {
          "base_uri": "https://localhost:8080/"
        },
        "id": "l4sxOxomogo4",
        "outputId": "e273472d-7259-492b-ae20-1f07a9aadc3c"
      },
      "execution_count": 16,
      "outputs": [
        {
          "output_type": "execute_result",
          "data": {
            "text/plain": [
              "True"
            ]
          },
          "metadata": {},
          "execution_count": 16
        }
      ]
    },
    {
      "cell_type": "code",
      "source": [
        "didPass(23)"
      ],
      "metadata": {
        "colab": {
          "base_uri": "https://localhost:8080/"
        },
        "id": "Pytk__PTokz1",
        "outputId": "3ed221d7-fd94-4ec3-95e9-72db945bcb87"
      },
      "execution_count": 17,
      "outputs": [
        {
          "output_type": "execute_result",
          "data": {
            "text/plain": [
              "False"
            ]
          },
          "metadata": {},
          "execution_count": 17
        }
      ]
    },
    {
      "cell_type": "code",
      "source": [
        "for student in students:\n",
        "  scoreAverage = getAverage(student.get(\"scores\"))\n",
        "\n",
        "  student[\"average\"] = scoreAverage\n",
        "  student[\"passed\"] = didPass(scoreAverage)"
      ],
      "metadata": {
        "id": "BDDlJzfqonAV"
      },
      "execution_count": 21,
      "outputs": []
    },
    {
      "cell_type": "code",
      "source": [
        "students"
      ],
      "metadata": {
        "colab": {
          "base_uri": "https://localhost:8080/"
        },
        "id": "76xj0_wgptMi",
        "outputId": "5c19cefd-d7f6-4b07-dd7c-6b4bbe7dac90"
      },
      "execution_count": 22,
      "outputs": [
        {
          "output_type": "execute_result",
          "data": {
            "text/plain": [
              "[{'name': 'Andrea',\n",
              "  'scores': [90, 73, 43, 100],\n",
              "  'average': 76.5,\n",
              "  'passed': True},\n",
              " {'name': 'Astrid',\n",
              "  'scores': [76, 44, 66, 73],\n",
              "  'average': 64.75,\n",
              "  'passed': False},\n",
              " {'name': 'Beatrice',\n",
              "  'scores': [64, 74, 91, 64],\n",
              "  'average': 73.25,\n",
              "  'passed': True},\n",
              " {'name': 'Brenda',\n",
              "  'scores': [96, 82, 76, 100],\n",
              "  'average': 88.5,\n",
              "  'passed': True}]"
            ]
          },
          "metadata": {},
          "execution_count": 22
        }
      ]
    },
    {
      "cell_type": "code",
      "source": [],
      "metadata": {
        "id": "xseG2clIqP4v"
      },
      "execution_count": null,
      "outputs": []
    }
  ]
}