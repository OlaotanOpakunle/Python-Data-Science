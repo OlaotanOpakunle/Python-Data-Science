{
  "nbformat": 4,
  "nbformat_minor": 0,
  "metadata": {
    "colab": {
      "provenance": [],
      "authorship_tag": "ABX9TyP4o3IDTDPzEQonVxI+8u2H",
      "include_colab_link": true
    },
    "kernelspec": {
      "name": "python3",
      "display_name": "Python 3"
    },
    "language_info": {
      "name": "python"
    }
  },
  "cells": [
    {
      "cell_type": "markdown",
      "metadata": {
        "id": "view-in-github",
        "colab_type": "text"
      },
      "source": [
        "<a href=\"https://colab.research.google.com/github/OlaotanOpakunle/Python-Data-Science/blob/main/Arithmetics.ipynb\" target=\"_parent\"><img src=\"https://colab.research.google.com/assets/colab-badge.svg\" alt=\"Open In Colab\"/></a>"
      ]
    },
    {
      "cell_type": "code",
      "execution_count": 2,
      "metadata": {
        "id": "9h5trYWkKTFO"
      },
      "outputs": [],
      "source": [
        "import pandas as pd\n",
        "import numpy as np"
      ]
    },
    {
      "cell_type": "code",
      "source": [
        "alcohol = pd.read_csv('https://andybek.com/pandas-drinks', usecols=['country', 'wine_servings'], index_col='country', squeeze=True)"
      ],
      "metadata": {
        "id": "KdHGRelOKYZx"
      },
      "execution_count": 3,
      "outputs": []
    },
    {
      "cell_type": "code",
      "source": [
        "alcohol + 2"
      ],
      "metadata": {
        "colab": {
          "base_uri": "https://localhost:8080/"
        },
        "id": "RwG9kQacKcNM",
        "outputId": "9928d62f-1a1b-4307-a341-a968a6cde28e"
      },
      "execution_count": 4,
      "outputs": [
        {
          "output_type": "execute_result",
          "data": {
            "text/plain": [
              "country\n",
              "Afghanistan      NaN\n",
              "Albania         56.0\n",
              "Algeria         16.0\n",
              "Andorra        314.0\n",
              "Angola          47.0\n",
              "               ...  \n",
              "Venezuela        5.0\n",
              "Vietnam          3.0\n",
              "Yemen            NaN\n",
              "Zambia           6.0\n",
              "Zimbabwe         6.0\n",
              "Name: wine_servings, Length: 193, dtype: float64"
            ]
          },
          "metadata": {},
          "execution_count": 4
        }
      ]
    },
    {
      "cell_type": "code",
      "source": [
        "(alcohol - 10) * 2"
      ],
      "metadata": {
        "colab": {
          "base_uri": "https://localhost:8080/"
        },
        "id": "CLJPYTNIKhEd",
        "outputId": "a6457a3c-22b1-48be-bdf7-1ab185c6730a"
      },
      "execution_count": 5,
      "outputs": [
        {
          "output_type": "execute_result",
          "data": {
            "text/plain": [
              "country\n",
              "Afghanistan      NaN\n",
              "Albania         88.0\n",
              "Algeria          8.0\n",
              "Andorra        604.0\n",
              "Angola          70.0\n",
              "               ...  \n",
              "Venezuela      -14.0\n",
              "Vietnam        -18.0\n",
              "Yemen            NaN\n",
              "Zambia         -12.0\n",
              "Zimbabwe       -12.0\n",
              "Name: wine_servings, Length: 193, dtype: float64"
            ]
          },
          "metadata": {},
          "execution_count": 5
        }
      ]
    },
    {
      "cell_type": "code",
      "source": [
        "alcohol.sort_index(inplace=True)"
      ],
      "metadata": {
        "id": "8HpaMXg7K0XT"
      },
      "execution_count": 6,
      "outputs": []
    },
    {
      "cell_type": "code",
      "source": [
        "alcohol.head()"
      ],
      "metadata": {
        "colab": {
          "base_uri": "https://localhost:8080/"
        },
        "id": "SSDjjZx5KqcQ",
        "outputId": "ca76ccd0-e522-4d3b-e1cc-f6d94b4563d7"
      },
      "execution_count": 7,
      "outputs": [
        {
          "output_type": "execute_result",
          "data": {
            "text/plain": [
              "country\n",
              "Afghanistan      NaN\n",
              "Albania         54.0\n",
              "Algeria         14.0\n",
              "Andorra        312.0\n",
              "Angola          45.0\n",
              "Name: wine_servings, dtype: float64"
            ]
          },
          "metadata": {},
          "execution_count": 7
        }
      ]
    },
    {
      "cell_type": "code",
      "source": [
        "more_drinks = pd.Series({'Albania' : 6, 'Alberia': 19, 'Algeria' :10, 'Afghanistan': 100, 'Yemen': 101})"
      ],
      "metadata": {
        "id": "r8IgoaYGK5F1"
      },
      "execution_count": 14,
      "outputs": []
    },
    {
      "cell_type": "code",
      "source": [
        "alcohol + more_drinks"
      ],
      "metadata": {
        "colab": {
          "base_uri": "https://localhost:8080/"
        },
        "id": "m9Xvv8F1LFiu",
        "outputId": "cdab29de-8378-4f03-ed5d-6aef3ec1ab15"
      },
      "execution_count": 11,
      "outputs": [
        {
          "output_type": "execute_result",
          "data": {
            "text/plain": [
              "Afghanistan     NaN\n",
              "Albania        60.0\n",
              "Algeria        24.0\n",
              "Andorra         NaN\n",
              "Angola          NaN\n",
              "               ... \n",
              "Venezuela       NaN\n",
              "Vietnam         NaN\n",
              "Yemen           NaN\n",
              "Zambia          NaN\n",
              "Zimbabwe        NaN\n",
              "Length: 193, dtype: float64"
            ]
          },
          "metadata": {},
          "execution_count": 11
        }
      ]
    },
    {
      "cell_type": "code",
      "source": [
        "alcohol.add(more_drinks, fill_value=0)"
      ],
      "metadata": {
        "colab": {
          "base_uri": "https://localhost:8080/"
        },
        "id": "zPL3QQwbLLh8",
        "outputId": "bb16eaee-6196-4454-fcdc-951d00cb486a"
      },
      "execution_count": 15,
      "outputs": [
        {
          "output_type": "execute_result",
          "data": {
            "text/plain": [
              "Afghanistan    100.0\n",
              "Albania         60.0\n",
              "Alberia         19.0\n",
              "Algeria         24.0\n",
              "Andorra        312.0\n",
              "               ...  \n",
              "Venezuela        3.0\n",
              "Vietnam          1.0\n",
              "Yemen          101.0\n",
              "Zambia           4.0\n",
              "Zimbabwe         4.0\n",
              "Length: 194, dtype: float64"
            ]
          },
          "metadata": {},
          "execution_count": 15
        }
      ]
    },
    {
      "cell_type": "code",
      "source": [
        "alcohol - more_drinks"
      ],
      "metadata": {
        "colab": {
          "base_uri": "https://localhost:8080/"
        },
        "id": "duMmRSbcLl_r",
        "outputId": "07bd7089-15dc-4803-b47e-93de1d44c206"
      },
      "execution_count": 16,
      "outputs": [
        {
          "output_type": "execute_result",
          "data": {
            "text/plain": [
              "Afghanistan     NaN\n",
              "Albania        48.0\n",
              "Alberia         NaN\n",
              "Algeria         4.0\n",
              "Andorra         NaN\n",
              "               ... \n",
              "Venezuela       NaN\n",
              "Vietnam         NaN\n",
              "Yemen           NaN\n",
              "Zambia          NaN\n",
              "Zimbabwe        NaN\n",
              "Length: 194, dtype: float64"
            ]
          },
          "metadata": {},
          "execution_count": 16
        }
      ]
    },
    {
      "cell_type": "code",
      "source": [
        "alcohol.subtract(more_drinks, fill_value=0)"
      ],
      "metadata": {
        "colab": {
          "base_uri": "https://localhost:8080/"
        },
        "id": "SVQt4ar_MmLA",
        "outputId": "150f0e46-5d2e-46e4-b064-d2903305e89e"
      },
      "execution_count": 18,
      "outputs": [
        {
          "output_type": "execute_result",
          "data": {
            "text/plain": [
              "Afghanistan   -100.0\n",
              "Albania         48.0\n",
              "Alberia        -19.0\n",
              "Algeria          4.0\n",
              "Andorra        312.0\n",
              "               ...  \n",
              "Venezuela        3.0\n",
              "Vietnam          1.0\n",
              "Yemen         -101.0\n",
              "Zambia           4.0\n",
              "Zimbabwe         4.0\n",
              "Length: 194, dtype: float64"
            ]
          },
          "metadata": {},
          "execution_count": 18
        }
      ]
    },
    {
      "cell_type": "code",
      "source": [
        "alcohol.divide(more_drinks, fill_value=1)"
      ],
      "metadata": {
        "colab": {
          "base_uri": "https://localhost:8080/"
        },
        "id": "anDydkOcMtpn",
        "outputId": "37f48792-9647-49ca-d2b4-2779938d9a00"
      },
      "execution_count": 19,
      "outputs": [
        {
          "output_type": "execute_result",
          "data": {
            "text/plain": [
              "Afghanistan      0.010000\n",
              "Albania          9.000000\n",
              "Alberia          0.052632\n",
              "Algeria          1.400000\n",
              "Andorra        312.000000\n",
              "                  ...    \n",
              "Venezuela        3.000000\n",
              "Vietnam          1.000000\n",
              "Yemen            0.009901\n",
              "Zambia           4.000000\n",
              "Zimbabwe         4.000000\n",
              "Length: 194, dtype: float64"
            ]
          },
          "metadata": {},
          "execution_count": 19
        }
      ]
    },
    {
      "cell_type": "code",
      "source": [
        "alcohol.multiply(more_drinks, fill_value=1)"
      ],
      "metadata": {
        "colab": {
          "base_uri": "https://localhost:8080/"
        },
        "id": "_p33FHQHNIYd",
        "outputId": "2249814d-e5f2-4257-e768-2feb578f4561"
      },
      "execution_count": 20,
      "outputs": [
        {
          "output_type": "execute_result",
          "data": {
            "text/plain": [
              "Afghanistan    100.0\n",
              "Albania        324.0\n",
              "Alberia         19.0\n",
              "Algeria        140.0\n",
              "Andorra        312.0\n",
              "               ...  \n",
              "Venezuela        3.0\n",
              "Vietnam          1.0\n",
              "Yemen          101.0\n",
              "Zambia           4.0\n",
              "Zimbabwe         4.0\n",
              "Length: 194, dtype: float64"
            ]
          },
          "metadata": {},
          "execution_count": 20
        }
      ]
    },
    {
      "cell_type": "code",
      "source": [
        "((alcohol.subtract(alcohol.mean()))**2).sum()/(alcohol.count()-1) # Variance using arithmetics"
      ],
      "metadata": {
        "colab": {
          "base_uri": "https://localhost:8080/"
        },
        "id": "fjgHj0LONO0N",
        "outputId": "1f4af2c3-2119-41c8-e6f4-b12bc47c0608"
      },
      "execution_count": 24,
      "outputs": [
        {
          "output_type": "execute_result",
          "data": {
            "text/plain": [
              "5796.5256115328575"
            ]
          },
          "metadata": {},
          "execution_count": 24
        }
      ]
    },
    {
      "cell_type": "code",
      "source": [],
      "metadata": {
        "id": "H4Mf3hiRPckS"
      },
      "execution_count": null,
      "outputs": []
    }
  ]
}