{
  "nbformat": 4,
  "nbformat_minor": 0,
  "metadata": {
    "colab": {
      "provenance": [],
      "authorship_tag": "ABX9TyMC+OI1EElZDOK0i+XETTQr",
      "include_colab_link": true
    },
    "kernelspec": {
      "name": "python3",
      "display_name": "Python 3"
    },
    "language_info": {
      "name": "python"
    }
  },
  "cells": [
    {
      "cell_type": "markdown",
      "metadata": {
        "id": "view-in-github",
        "colab_type": "text"
      },
      "source": [
        "<a href=\"https://colab.research.google.com/github/OlaotanOpakunle/Python-Data-Science/blob/main/Revising.ipynb\" target=\"_parent\"><img src=\"https://colab.research.google.com/assets/colab-badge.svg\" alt=\"Open In Colab\"/></a>"
      ]
    },
    {
      "cell_type": "code",
      "execution_count": 26,
      "metadata": {
        "id": "eU3ybq_iOEth"
      },
      "outputs": [],
      "source": [
        "import pandas as pd\n",
        "import numpy as np"
      ]
    },
    {
      "cell_type": "code",
      "source": [
        "alcohol = pd.read_csv('https://andybek.com/pandas-drinks', usecols=[\"country\", \"wine_servings\"], index_col=\"country\", squeeze=True)"
      ],
      "metadata": {
        "id": "TQX88VbgSUnS"
      },
      "execution_count": 3,
      "outputs": []
    },
    {
      "cell_type": "code",
      "source": [
        "alcohol = pd.read_csv(\"https://andybek.com/pandas-drinks\", usecols = [\"country\", \"wine_servings\"], index_col=\"country\", squeeze=True)"
      ],
      "metadata": {
        "id": "QcUuq974Oa1X"
      },
      "execution_count": 5,
      "outputs": []
    },
    {
      "cell_type": "code",
      "source": [
        "alcohol.size"
      ],
      "metadata": {
        "colab": {
          "base_uri": "https://localhost:8080/"
        },
        "id": "R4Pleg6jO2_8",
        "outputId": "6db37579-5b56-4640-ecc6-f40dc4cf65c9"
      },
      "execution_count": 6,
      "outputs": [
        {
          "output_type": "execute_result",
          "data": {
            "text/plain": [
              "193"
            ]
          },
          "metadata": {},
          "execution_count": 6
        }
      ]
    },
    {
      "cell_type": "code",
      "source": [
        "alcohol.count()"
      ],
      "metadata": {
        "colab": {
          "base_uri": "https://localhost:8080/"
        },
        "id": "dTtHGil5O7_Z",
        "outputId": "1adc7b99-e444-46ff-e3a2-ab3a41b69200"
      },
      "execution_count": 7,
      "outputs": [
        {
          "output_type": "execute_result",
          "data": {
            "text/plain": [
              "162"
            ]
          },
          "metadata": {},
          "execution_count": 7
        }
      ]
    },
    {
      "cell_type": "code",
      "source": [
        "alcohol.isnull()"
      ],
      "metadata": {
        "colab": {
          "base_uri": "https://localhost:8080/"
        },
        "id": "wtK1cQNOO9xz",
        "outputId": "a21061a9-4630-4648-c319-b40741b139ce"
      },
      "execution_count": 12,
      "outputs": [
        {
          "output_type": "execute_result",
          "data": {
            "text/plain": [
              "country\n",
              "Afghanistan     True\n",
              "Albania        False\n",
              "Algeria        False\n",
              "Andorra        False\n",
              "Angola         False\n",
              "               ...  \n",
              "Venezuela      False\n",
              "Vietnam        False\n",
              "Yemen           True\n",
              "Zambia         False\n",
              "Zimbabwe       False\n",
              "Name: wine_servings, Length: 193, dtype: bool"
            ]
          },
          "metadata": {},
          "execution_count": 12
        }
      ]
    },
    {
      "cell_type": "code",
      "source": [
        "alcohol.head"
      ],
      "metadata": {
        "colab": {
          "base_uri": "https://localhost:8080/"
        },
        "id": "pXTKOqS6O_1S",
        "outputId": "6be0e139-643c-4d90-828c-e2f57316a179"
      },
      "execution_count": 13,
      "outputs": [
        {
          "output_type": "execute_result",
          "data": {
            "text/plain": [
              "<bound method NDFrame.head of country\n",
              "Afghanistan      NaN\n",
              "Albania         54.0\n",
              "Algeria         14.0\n",
              "Andorra        312.0\n",
              "Angola          45.0\n",
              "               ...  \n",
              "Venezuela        3.0\n",
              "Vietnam          1.0\n",
              "Yemen            NaN\n",
              "Zambia           4.0\n",
              "Zimbabwe         4.0\n",
              "Name: wine_servings, Length: 193, dtype: float64>"
            ]
          },
          "metadata": {},
          "execution_count": 13
        }
      ]
    },
    {
      "cell_type": "code",
      "source": [
        "alcohol[alcohol.isnull()]"
      ],
      "metadata": {
        "colab": {
          "base_uri": "https://localhost:8080/"
        },
        "id": "MIRtggYSPRfS",
        "outputId": "a575d325-d3cd-450e-ed6f-de557f1bfb9e"
      },
      "execution_count": 14,
      "outputs": [
        {
          "output_type": "execute_result",
          "data": {
            "text/plain": [
              "country\n",
              "Afghanistan        NaN\n",
              "Bangladesh         NaN\n",
              "Bhutan             NaN\n",
              "Burundi            NaN\n",
              "North Korea        NaN\n",
              "Eritrea            NaN\n",
              "Ethiopia           NaN\n",
              "India              NaN\n",
              "Indonesia          NaN\n",
              "Iran               NaN\n",
              "Iraq               NaN\n",
              "Kuwait             NaN\n",
              "Lesotho            NaN\n",
              "Libya              NaN\n",
              "Malaysia           NaN\n",
              "Maldives           NaN\n",
              "Marshall Islands   NaN\n",
              "Mauritania         NaN\n",
              "Monaco             NaN\n",
              "Myanmar            NaN\n",
              "Nepal              NaN\n",
              "Pakistan           NaN\n",
              "Rwanda             NaN\n",
              "San Marino         NaN\n",
              "Saudi Arabia       NaN\n",
              "Somalia            NaN\n",
              "Sri Lanka          NaN\n",
              "Sudan              NaN\n",
              "Tajikistan         NaN\n",
              "Uganda             NaN\n",
              "Yemen              NaN\n",
              "Name: wine_servings, dtype: float64"
            ]
          },
          "metadata": {},
          "execution_count": 14
        }
      ]
    },
    {
      "cell_type": "code",
      "source": [
        "alcohol[alcohol.isnull()].index"
      ],
      "metadata": {
        "colab": {
          "base_uri": "https://localhost:8080/"
        },
        "id": "sWE5XEKRPcHS",
        "outputId": "1ca54632-25c2-41c1-ca2b-858d19a98d48"
      },
      "execution_count": 18,
      "outputs": [
        {
          "output_type": "execute_result",
          "data": {
            "text/plain": [
              "Index(['Afghanistan', 'Bangladesh', 'Bhutan', 'Burundi', 'North Korea',\n",
              "       'Eritrea', 'Ethiopia', 'India', 'Indonesia', 'Iran', 'Iraq', 'Kuwait',\n",
              "       'Lesotho', 'Libya', 'Malaysia', 'Maldives', 'Marshall Islands',\n",
              "       'Mauritania', 'Monaco', 'Myanmar', 'Nepal', 'Pakistan', 'Rwanda',\n",
              "       'San Marino', 'Saudi Arabia', 'Somalia', 'Sri Lanka', 'Sudan',\n",
              "       'Tajikistan', 'Uganda', 'Yemen'],\n",
              "      dtype='object', name='country')"
            ]
          },
          "metadata": {},
          "execution_count": 18
        }
      ]
    },
    {
      "cell_type": "code",
      "source": [
        "list(alcohol[alcohol.isnull()].index)"
      ],
      "metadata": {
        "colab": {
          "base_uri": "https://localhost:8080/"
        },
        "id": "NLz4KPHHPgKS",
        "outputId": "4d488c11-9ea4-4962-cb35-04bc0321d915"
      },
      "execution_count": 19,
      "outputs": [
        {
          "output_type": "execute_result",
          "data": {
            "text/plain": [
              "['Afghanistan',\n",
              " 'Bangladesh',\n",
              " 'Bhutan',\n",
              " 'Burundi',\n",
              " 'North Korea',\n",
              " 'Eritrea',\n",
              " 'Ethiopia',\n",
              " 'India',\n",
              " 'Indonesia',\n",
              " 'Iran',\n",
              " 'Iraq',\n",
              " 'Kuwait',\n",
              " 'Lesotho',\n",
              " 'Libya',\n",
              " 'Malaysia',\n",
              " 'Maldives',\n",
              " 'Marshall Islands',\n",
              " 'Mauritania',\n",
              " 'Monaco',\n",
              " 'Myanmar',\n",
              " 'Nepal',\n",
              " 'Pakistan',\n",
              " 'Rwanda',\n",
              " 'San Marino',\n",
              " 'Saudi Arabia',\n",
              " 'Somalia',\n",
              " 'Sri Lanka',\n",
              " 'Sudan',\n",
              " 'Tajikistan',\n",
              " 'Uganda',\n",
              " 'Yemen']"
            ]
          },
          "metadata": {},
          "execution_count": 19
        }
      ]
    },
    {
      "cell_type": "code",
      "source": [
        "len(list(alcohol[alcohol.isnull()].index))"
      ],
      "metadata": {
        "colab": {
          "base_uri": "https://localhost:8080/"
        },
        "id": "bwhUY6W0QWaT",
        "outputId": "8b453fe7-9201-42f2-ec04-03c320030858"
      },
      "execution_count": 20,
      "outputs": [
        {
          "output_type": "execute_result",
          "data": {
            "text/plain": [
              "31"
            ]
          },
          "metadata": {},
          "execution_count": 20
        }
      ]
    },
    {
      "cell_type": "code",
      "source": [
        "alcohol.isnull().sum()"
      ],
      "metadata": {
        "colab": {
          "base_uri": "https://localhost:8080/"
        },
        "id": "O13yzeGgQd9n",
        "outputId": "a71a7174-eff5-47c9-f324-a1bc1ad72d8b"
      },
      "execution_count": 21,
      "outputs": [
        {
          "output_type": "execute_result",
          "data": {
            "text/plain": [
              "31"
            ]
          },
          "metadata": {},
          "execution_count": 21
        }
      ]
    },
    {
      "cell_type": "code",
      "source": [
        "alcohol.size - alcohol.count()"
      ],
      "metadata": {
        "colab": {
          "base_uri": "https://localhost:8080/"
        },
        "id": "cQkekLh3QvL0",
        "outputId": "0da1d9b0-5e7f-492a-c4c6-94e84e2a4a83"
      },
      "execution_count": 24,
      "outputs": [
        {
          "output_type": "execute_result",
          "data": {
            "text/plain": [
              "31"
            ]
          },
          "metadata": {},
          "execution_count": 24
        }
      ]
    },
    {
      "cell_type": "code",
      "source": [
        "alcohol.size - alcohol.count() == alcohol.isnull().sum()"
      ],
      "metadata": {
        "colab": {
          "base_uri": "https://localhost:8080/"
        },
        "id": "C61oFq7BS6KM",
        "outputId": "7f58d89f-8d88-4a76-babe-543f3d65a928"
      },
      "execution_count": 25,
      "outputs": [
        {
          "output_type": "execute_result",
          "data": {
            "text/plain": [
              "True"
            ]
          },
          "metadata": {},
          "execution_count": 25
        }
      ]
    },
    {
      "cell_type": "code",
      "source": [
        "alcohol[np.isnan]"
      ],
      "metadata": {
        "colab": {
          "base_uri": "https://localhost:8080/"
        },
        "id": "8GVAMm8nTyUE",
        "outputId": "79927e8b-3c3b-4c80-9da1-48a97b0e9907"
      },
      "execution_count": 27,
      "outputs": [
        {
          "output_type": "execute_result",
          "data": {
            "text/plain": [
              "country\n",
              "Afghanistan        NaN\n",
              "Bangladesh         NaN\n",
              "Bhutan             NaN\n",
              "Burundi            NaN\n",
              "North Korea        NaN\n",
              "Eritrea            NaN\n",
              "Ethiopia           NaN\n",
              "India              NaN\n",
              "Indonesia          NaN\n",
              "Iran               NaN\n",
              "Iraq               NaN\n",
              "Kuwait             NaN\n",
              "Lesotho            NaN\n",
              "Libya              NaN\n",
              "Malaysia           NaN\n",
              "Maldives           NaN\n",
              "Marshall Islands   NaN\n",
              "Mauritania         NaN\n",
              "Monaco             NaN\n",
              "Myanmar            NaN\n",
              "Nepal              NaN\n",
              "Pakistan           NaN\n",
              "Rwanda             NaN\n",
              "San Marino         NaN\n",
              "Saudi Arabia       NaN\n",
              "Somalia            NaN\n",
              "Sri Lanka          NaN\n",
              "Sudan              NaN\n",
              "Tajikistan         NaN\n",
              "Uganda             NaN\n",
              "Yemen              NaN\n",
              "Name: wine_servings, dtype: float64"
            ]
          },
          "metadata": {},
          "execution_count": 27
        }
      ]
    },
    {
      "cell_type": "code",
      "source": [
        "alcohol[np.isnan].size"
      ],
      "metadata": {
        "colab": {
          "base_uri": "https://localhost:8080/"
        },
        "id": "9mV8uOskWLAy",
        "outputId": "bc750e4d-1237-48e2-b544-124a31f466a2"
      },
      "execution_count": 28,
      "outputs": [
        {
          "output_type": "execute_result",
          "data": {
            "text/plain": [
              "31"
            ]
          },
          "metadata": {},
          "execution_count": 28
        }
      ]
    },
    {
      "cell_type": "code",
      "source": [
        "alcohol.notnull()"
      ],
      "metadata": {
        "colab": {
          "base_uri": "https://localhost:8080/"
        },
        "id": "eBHFvAw3WG7m",
        "outputId": "ba996531-c931-419e-ec17-b62ca7f980f5"
      },
      "execution_count": 29,
      "outputs": [
        {
          "output_type": "execute_result",
          "data": {
            "text/plain": [
              "country\n",
              "Afghanistan    False\n",
              "Albania         True\n",
              "Algeria         True\n",
              "Andorra         True\n",
              "Angola          True\n",
              "               ...  \n",
              "Venezuela       True\n",
              "Vietnam         True\n",
              "Yemen          False\n",
              "Zambia          True\n",
              "Zimbabwe        True\n",
              "Name: wine_servings, Length: 193, dtype: bool"
            ]
          },
          "metadata": {},
          "execution_count": 29
        }
      ]
    },
    {
      "cell_type": "code",
      "source": [
        "alcohol[alcohol.notnull()]"
      ],
      "metadata": {
        "colab": {
          "base_uri": "https://localhost:8080/"
        },
        "id": "o-i47KIqWm2X",
        "outputId": "6d1f16b2-b66d-4598-bfe5-783c59fb2eb4"
      },
      "execution_count": 31,
      "outputs": [
        {
          "output_type": "execute_result",
          "data": {
            "text/plain": [
              "country\n",
              "Albania               54.0\n",
              "Algeria               14.0\n",
              "Andorra              312.0\n",
              "Angola                45.0\n",
              "Antigua & Barbuda     45.0\n",
              "                     ...  \n",
              "Vanuatu               11.0\n",
              "Venezuela              3.0\n",
              "Vietnam                1.0\n",
              "Zambia                 4.0\n",
              "Zimbabwe               4.0\n",
              "Name: wine_servings, Length: 162, dtype: float64"
            ]
          },
          "metadata": {},
          "execution_count": 31
        }
      ]
    },
    {
      "cell_type": "code",
      "source": [
        "alcohol[alcohol.notnull()].sum()"
      ],
      "metadata": {
        "colab": {
          "base_uri": "https://localhost:8080/"
        },
        "id": "CnlGxDHWWrkX",
        "outputId": "63450190-6839-4200-fb92-35ea77b6cc55"
      },
      "execution_count": 32,
      "outputs": [
        {
          "output_type": "execute_result",
          "data": {
            "text/plain": [
              "8221.0"
            ]
          },
          "metadata": {},
          "execution_count": 32
        }
      ]
    },
    {
      "cell_type": "code",
      "source": [
        "alcohol.notnull().sum()"
      ],
      "metadata": {
        "colab": {
          "base_uri": "https://localhost:8080/"
        },
        "id": "TiArLnPDW4Mu",
        "outputId": "d62e446b-40a2-437a-ff19-51972e963e75"
      },
      "execution_count": 33,
      "outputs": [
        {
          "output_type": "execute_result",
          "data": {
            "text/plain": [
              "162"
            ]
          },
          "metadata": {},
          "execution_count": 33
        }
      ]
    },
    {
      "cell_type": "code",
      "source": [
        "alcohol.notnull().sum() + alcohol.isnull().sum() == alcohol.size"
      ],
      "metadata": {
        "colab": {
          "base_uri": "https://localhost:8080/"
        },
        "id": "0VY59c-aW_V1",
        "outputId": "2732e4d4-3d2c-446f-e566-9fa8f611c684"
      },
      "execution_count": 35,
      "outputs": [
        {
          "output_type": "execute_result",
          "data": {
            "text/plain": [
              "True"
            ]
          },
          "metadata": {},
          "execution_count": 35
        }
      ]
    },
    {
      "cell_type": "code",
      "source": [
        "True == 1"
      ],
      "metadata": {
        "colab": {
          "base_uri": "https://localhost:8080/"
        },
        "id": "OdLh-YF_YLqy",
        "outputId": "ddb56604-2832-4716-c982-46481db4283e"
      },
      "execution_count": 36,
      "outputs": [
        {
          "output_type": "execute_result",
          "data": {
            "text/plain": [
              "True"
            ]
          },
          "metadata": {},
          "execution_count": 36
        }
      ]
    },
    {
      "cell_type": "code",
      "source": [
        "# Skill Challenge"
      ],
      "metadata": {
        "id": "C-2t8EuPYpJW"
      },
      "execution_count": 37,
      "outputs": []
    },
    {
      "cell_type": "code",
      "source": [
        "wine_servings = alcohol[alcohol.notnull()]"
      ],
      "metadata": {
        "id": "eEvPWIt1ZR0W"
      },
      "execution_count": 49,
      "outputs": []
    },
    {
      "cell_type": "code",
      "source": [
        "wine_servings.sum()"
      ],
      "metadata": {
        "colab": {
          "base_uri": "https://localhost:8080/"
        },
        "id": "jL047UfBZbnV",
        "outputId": "793ad7a9-2cc4-4f14-cf3e-29b5363cbbaa"
      },
      "execution_count": 50,
      "outputs": [
        {
          "output_type": "execute_result",
          "data": {
            "text/plain": [
              "8221.0"
            ]
          },
          "metadata": {},
          "execution_count": 50
        }
      ]
    },
    {
      "cell_type": "code",
      "source": [
        "wine_servings[wine_servings<100].sum()"
      ],
      "metadata": {
        "colab": {
          "base_uri": "https://localhost:8080/"
        },
        "id": "lNvlWX7OZuYS",
        "outputId": "020fbf9a-23b7-4b63-823b-e1491bc4f40a"
      },
      "execution_count": 53,
      "outputs": [
        {
          "output_type": "execute_result",
          "data": {
            "text/plain": [
              "2416.0"
            ]
          },
          "metadata": {},
          "execution_count": 53
        }
      ]
    },
    {
      "cell_type": "code",
      "source": [
        "# Ends"
      ],
      "metadata": {
        "id": "JUWw6nOKaAl6"
      },
      "execution_count": 54,
      "outputs": []
    },
    {
      "cell_type": "code",
      "source": [
        "alcohol.dropna()"
      ],
      "metadata": {
        "colab": {
          "base_uri": "https://localhost:8080/"
        },
        "id": "96zWkPFfchU0",
        "outputId": "2a9838da-e2e6-4d8d-da53-447fd15f3272"
      },
      "execution_count": 55,
      "outputs": [
        {
          "output_type": "execute_result",
          "data": {
            "text/plain": [
              "country\n",
              "Albania               54.0\n",
              "Algeria               14.0\n",
              "Andorra              312.0\n",
              "Angola                45.0\n",
              "Antigua & Barbuda     45.0\n",
              "                     ...  \n",
              "Vanuatu               11.0\n",
              "Venezuela              3.0\n",
              "Vietnam                1.0\n",
              "Zambia                 4.0\n",
              "Zimbabwe               4.0\n",
              "Name: wine_servings, Length: 162, dtype: float64"
            ]
          },
          "metadata": {},
          "execution_count": 55
        }
      ]
    },
    {
      "cell_type": "code",
      "source": [
        "alcohol.fillna(100, inplace=False) "
      ],
      "metadata": {
        "colab": {
          "base_uri": "https://localhost:8080/"
        },
        "id": "eCanVzHackIJ",
        "outputId": "2ba3c839-a8e4-4662-b58a-75922f0d4a80"
      },
      "execution_count": 56,
      "outputs": [
        {
          "output_type": "execute_result",
          "data": {
            "text/plain": [
              "country\n",
              "Afghanistan    100.0\n",
              "Albania         54.0\n",
              "Algeria         14.0\n",
              "Andorra        312.0\n",
              "Angola          45.0\n",
              "               ...  \n",
              "Venezuela        3.0\n",
              "Vietnam          1.0\n",
              "Yemen          100.0\n",
              "Zambia           4.0\n",
              "Zimbabwe         4.0\n",
              "Name: wine_servings, Length: 193, dtype: float64"
            ]
          },
          "metadata": {},
          "execution_count": 56
        }
      ]
    },
    {
      "cell_type": "code",
      "source": [],
      "metadata": {
        "id": "maa2Lbs-dObm"
      },
      "execution_count": null,
      "outputs": []
    }
  ]
}