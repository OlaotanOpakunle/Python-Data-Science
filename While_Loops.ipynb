{
  "nbformat": 4,
  "nbformat_minor": 0,
  "metadata": {
    "colab": {
      "provenance": [],
      "authorship_tag": "ABX9TyPauAv1uCc1AdL7MZKNO5Z9",
      "include_colab_link": true
    },
    "kernelspec": {
      "name": "python3",
      "display_name": "Python 3"
    },
    "language_info": {
      "name": "python"
    }
  },
  "cells": [
    {
      "cell_type": "markdown",
      "metadata": {
        "id": "view-in-github",
        "colab_type": "text"
      },
      "source": [
        "<a href=\"https://colab.research.google.com/github/OlaotanOpakunle/Python-Data-Science/blob/main/While_Loops.ipynb\" target=\"_parent\"><img src=\"https://colab.research.google.com/assets/colab-badge.svg\" alt=\"Open In Colab\"/></a>"
      ]
    },
    {
      "cell_type": "code",
      "execution_count": 1,
      "metadata": {
        "id": "8XLgCQENdWSG"
      },
      "outputs": [],
      "source": [
        "balance = 2000;\n",
        "nextRoundCost = 42.34;\n",
        "gamesPlayed = 0;\n",
        "\n",
        "# Q: How many games could be played if the cost to play doubles each round"
      ]
    },
    {
      "cell_type": "code",
      "source": [
        "while (balance > nextRoundCost):\n",
        "  gamesPlayed += 1\n",
        "  balance -= nextRoundCost\n",
        "  nextRoundCost *= 2"
      ],
      "metadata": {
        "id": "ksUh_s2LeLCk"
      },
      "execution_count": 6,
      "outputs": []
    },
    {
      "cell_type": "code",
      "source": [
        "gamesPlayed"
      ],
      "metadata": {
        "colab": {
          "base_uri": "https://localhost:8080/"
        },
        "id": "zMfUnsPHfzjR",
        "outputId": "03089cbb-ee1c-421b-a1b8-7c654503792a"
      },
      "execution_count": 7,
      "outputs": [
        {
          "output_type": "execute_result",
          "data": {
            "text/plain": [
              "5"
            ]
          },
          "metadata": {},
          "execution_count": 7
        }
      ]
    },
    {
      "cell_type": "code",
      "source": [
        "nextRoundCost"
      ],
      "metadata": {
        "colab": {
          "base_uri": "https://localhost:8080/"
        },
        "id": "4yWi6ywtf2F1",
        "outputId": "9df46ef2-bc53-401e-b0b4-a4d9fe103634"
      },
      "execution_count": 8,
      "outputs": [
        {
          "output_type": "execute_result",
          "data": {
            "text/plain": [
              "1354.88"
            ]
          },
          "metadata": {},
          "execution_count": 8
        }
      ]
    },
    {
      "cell_type": "code",
      "source": [
        "balance"
      ],
      "metadata": {
        "colab": {
          "base_uri": "https://localhost:8080/"
        },
        "id": "l1Jlysxmf5SU",
        "outputId": "d452d553-b71e-4613-d0db-b3a3b8ca00e8"
      },
      "execution_count": 9,
      "outputs": [
        {
          "output_type": "execute_result",
          "data": {
            "text/plain": [
              "687.4599999999998"
            ]
          },
          "metadata": {},
          "execution_count": 9
        }
      ]
    },
    {
      "cell_type": "code",
      "source": [],
      "metadata": {
        "id": "V6YVIJEKf-Jm"
      },
      "execution_count": null,
      "outputs": []
    }
  ]
}