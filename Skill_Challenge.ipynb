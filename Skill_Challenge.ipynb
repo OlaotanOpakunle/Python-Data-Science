{
  "nbformat": 4,
  "nbformat_minor": 0,
  "metadata": {
    "colab": {
      "provenance": [],
      "authorship_tag": "ABX9TyO1P8fHYjE6XDl8QclXNTnT",
      "include_colab_link": true
    },
    "kernelspec": {
      "name": "python3",
      "display_name": "Python 3"
    },
    "language_info": {
      "name": "python"
    }
  },
  "cells": [
    {
      "cell_type": "markdown",
      "metadata": {
        "id": "view-in-github",
        "colab_type": "text"
      },
      "source": [
        "<a href=\"https://colab.research.google.com/github/OlaotanOpakunle/Python-Data-Science/blob/main/Skill_Challenge.ipynb\" target=\"_parent\"><img src=\"https://colab.research.google.com/assets/colab-badge.svg\" alt=\"Open In Colab\"/></a>"
      ]
    },
    {
      "cell_type": "code",
      "execution_count": 1,
      "metadata": {
        "id": "CFR2QfdZWU4Y"
      },
      "outputs": [],
      "source": [
        "import pandas as pd\n",
        "import numpy as np"
      ]
    },
    {
      "cell_type": "code",
      "source": [
        "# Create a series of length 100 containing the squares of integers from 0 to 99. Assign it to the variable squares.\n",
        "\n",
        "# Extract the last 3 items from the square series using square bracket indexing.\n",
        "\n",
        "# Repeat step 2 but use the .tail() method instead.\n",
        "\n",
        "# Verify that the output of steps 2 and 3 is the same as using the .equals() method."
      ],
      "metadata": {
        "id": "caV0Xuf6WbHY"
      },
      "execution_count": 2,
      "outputs": []
    },
    {
      "cell_type": "code",
      "source": [
        "squares = pd.Series(data=[i**2 for i in range(100)])"
      ],
      "metadata": {
        "id": "JU-uHlKgXQ0G"
      },
      "execution_count": 12,
      "outputs": []
    },
    {
      "cell_type": "code",
      "source": [
        "range(100)"
      ],
      "metadata": {
        "colab": {
          "base_uri": "https://localhost:8080/"
        },
        "id": "yhygXYNOZdaE",
        "outputId": "c42ee9fb-70d6-4e04-b8ad-9b28c308fe39"
      },
      "execution_count": 5,
      "outputs": [
        {
          "output_type": "execute_result",
          "data": {
            "text/plain": [
              "range(0, 100)"
            ]
          },
          "metadata": {},
          "execution_count": 5
        }
      ]
    },
    {
      "cell_type": "code",
      "source": [
        "#list(range(100))"
      ],
      "metadata": {
        "id": "XdBLBHx2ZiEu"
      },
      "execution_count": 7,
      "outputs": []
    },
    {
      "cell_type": "code",
      "source": [
        "squares.head()"
      ],
      "metadata": {
        "colab": {
          "base_uri": "https://localhost:8080/"
        },
        "id": "RH8Tu2gCZmrE",
        "outputId": "110a71d9-7c53-432b-e1db-63cdd49c8dfa"
      },
      "execution_count": 14,
      "outputs": [
        {
          "output_type": "execute_result",
          "data": {
            "text/plain": [
              "0     0\n",
              "1     1\n",
              "2     4\n",
              "3     9\n",
              "4    16\n",
              "dtype: int64"
            ]
          },
          "metadata": {},
          "execution_count": 14
        }
      ]
    },
    {
      "cell_type": "code",
      "source": [
        "# 2\n"
      ],
      "metadata": {
        "id": "ttohq83saPNv"
      },
      "execution_count": 16,
      "outputs": []
    },
    {
      "cell_type": "code",
      "source": [
        "a = squares[-3:]"
      ],
      "metadata": {
        "id": "oMUxzKv2aez9"
      },
      "execution_count": 22,
      "outputs": []
    },
    {
      "cell_type": "code",
      "source": [
        "squares.iloc[-3:]"
      ],
      "metadata": {
        "colab": {
          "base_uri": "https://localhost:8080/"
        },
        "id": "loxnOExlahq9",
        "outputId": "f8a8e7f0-d4af-4b22-eb74-de9fc561d3f6"
      },
      "execution_count": 19,
      "outputs": [
        {
          "output_type": "execute_result",
          "data": {
            "text/plain": [
              "97    9409\n",
              "98    9604\n",
              "99    9801\n",
              "dtype: int64"
            ]
          },
          "metadata": {},
          "execution_count": 19
        }
      ]
    },
    {
      "cell_type": "code",
      "source": [
        "b = squares.tail(n=3)"
      ],
      "metadata": {
        "id": "tfZ_Sa-karGP"
      },
      "execution_count": 23,
      "outputs": []
    },
    {
      "cell_type": "code",
      "source": [
        "squares[-3:].equals(squares.tail(n=3))"
      ],
      "metadata": {
        "colab": {
          "base_uri": "https://localhost:8080/"
        },
        "id": "mbq2OgHpauzI",
        "outputId": "e3158712-5d69-4f09-abd6-e1be2195fb41"
      },
      "execution_count": 21,
      "outputs": [
        {
          "output_type": "execute_result",
          "data": {
            "text/plain": [
              "True"
            ]
          },
          "metadata": {},
          "execution_count": 21
        }
      ]
    },
    {
      "cell_type": "code",
      "source": [
        "a == b"
      ],
      "metadata": {
        "colab": {
          "base_uri": "https://localhost:8080/"
        },
        "id": "9cTeLjW9a7hP",
        "outputId": "84ac2f2a-71f3-415f-d9a6-850499966cdd"
      },
      "execution_count": 24,
      "outputs": [
        {
          "output_type": "execute_result",
          "data": {
            "text/plain": [
              "97    True\n",
              "98    True\n",
              "99    True\n",
              "dtype: bool"
            ]
          },
          "metadata": {},
          "execution_count": 24
        }
      ]
    },
    {
      "cell_type": "code",
      "source": [
        "a.equals(b)"
      ],
      "metadata": {
        "colab": {
          "base_uri": "https://localhost:8080/"
        },
        "id": "NpOPrODGbEk4",
        "outputId": "c7ee33b5-7e72-41dc-99bb-6913e6130956"
      },
      "execution_count": 25,
      "outputs": [
        {
          "output_type": "execute_result",
          "data": {
            "text/plain": [
              "True"
            ]
          },
          "metadata": {},
          "execution_count": 25
        }
      ]
    },
    {
      "cell_type": "code",
      "source": [
        "b.equals(a)"
      ],
      "metadata": {
        "colab": {
          "base_uri": "https://localhost:8080/"
        },
        "id": "JEPQkQtYbJtS",
        "outputId": "011aa6ae-0fe6-4997-efe1-9360b61cab2b"
      },
      "execution_count": 26,
      "outputs": [
        {
          "output_type": "execute_result",
          "data": {
            "text/plain": [
              "True"
            ]
          },
          "metadata": {},
          "execution_count": 26
        }
      ]
    },
    {
      "cell_type": "code",
      "source": [],
      "metadata": {
        "id": "5hQ1i7hrbL86"
      },
      "execution_count": null,
      "outputs": []
    }
  ]
}