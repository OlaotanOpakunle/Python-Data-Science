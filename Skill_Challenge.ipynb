{
  "nbformat": 4,
  "nbformat_minor": 0,
  "metadata": {
    "colab": {
      "provenance": [],
      "authorship_tag": "ABX9TyOxgAeTpGoiPKOi5ms4kLve",
      "include_colab_link": true
    },
    "kernelspec": {
      "name": "python3",
      "display_name": "Python 3"
    },
    "language_info": {
      "name": "python"
    }
  },
  "cells": [
    {
      "cell_type": "markdown",
      "metadata": {
        "id": "view-in-github",
        "colab_type": "text"
      },
      "source": [
        "<a href=\"https://colab.research.google.com/github/OlaotanOpakunle/Python-Data-Science/blob/main/Skill_Challenge.ipynb\" target=\"_parent\"><img src=\"https://colab.research.google.com/assets/colab-badge.svg\" alt=\"Open In Colab\"/></a>"
      ]
    },
    {
      "cell_type": "code",
      "execution_count": 3,
      "metadata": {
        "id": "MgNvoyT6ETYP"
      },
      "outputs": [],
      "source": [
        "import pandas as pd"
      ]
    },
    {
      "cell_type": "code",
      "source": [
        "alcohol = pd.read_csv('https://andybek.com/pandas-drinks', usecols=[\"country\", \"wine_servings\"], index_col=\"country\", squeeze=True)"
      ],
      "metadata": {
        "id": "e3Fh2oA6FOtc"
      },
      "execution_count": 4,
      "outputs": []
    },
    {
      "cell_type": "code",
      "source": [
        "wine_servings = alcohol[alcohol.notnull()]"
      ],
      "metadata": {
        "id": "Zobz53crFVyu"
      },
      "execution_count": 5,
      "outputs": []
    },
    {
      "cell_type": "code",
      "source": [
        "wine_servings"
      ],
      "metadata": {
        "colab": {
          "base_uri": "https://localhost:8080/"
        },
        "id": "TGeQyy64GrRW",
        "outputId": "cebdef8f-34f9-488d-acdf-6d249ced7c76"
      },
      "execution_count": 6,
      "outputs": [
        {
          "output_type": "execute_result",
          "data": {
            "text/plain": [
              "country\n",
              "Albania               54.0\n",
              "Algeria               14.0\n",
              "Andorra              312.0\n",
              "Angola                45.0\n",
              "Antigua & Barbuda     45.0\n",
              "                     ...  \n",
              "Vanuatu               11.0\n",
              "Venezuela              3.0\n",
              "Vietnam                1.0\n",
              "Zambia                 4.0\n",
              "Zimbabwe               4.0\n",
              "Name: wine_servings, Length: 162, dtype: float64"
            ]
          },
          "metadata": {},
          "execution_count": 6
        }
      ]
    },
    {
      "cell_type": "code",
      "source": [
        "wine_servings.sum()"
      ],
      "metadata": {
        "colab": {
          "base_uri": "https://localhost:8080/"
        },
        "id": "6-HWHg-NGt88",
        "outputId": "f47d0f16-660d-4443-9464-ebd47c0423c8"
      },
      "execution_count": 7,
      "outputs": [
        {
          "output_type": "execute_result",
          "data": {
            "text/plain": [
              "8221.0"
            ]
          },
          "metadata": {},
          "execution_count": 7
        }
      ]
    },
    {
      "cell_type": "code",
      "source": [
        "lessThan100 = wine_servings[wine_servings < 100]"
      ],
      "metadata": {
        "id": "YmouZ83AHBmb"
      },
      "execution_count": 12,
      "outputs": []
    },
    {
      "cell_type": "code",
      "source": [
        "lessThan100.sum()"
      ],
      "metadata": {
        "colab": {
          "base_uri": "https://localhost:8080/"
        },
        "id": "LcCBaV4SHnI7",
        "outputId": "fdf61c8e-6773-444c-def5-2f91a6fe5818"
      },
      "execution_count": 15,
      "outputs": [
        {
          "output_type": "execute_result",
          "data": {
            "text/plain": [
              "2416.0"
            ]
          },
          "metadata": {},
          "execution_count": 15
        }
      ]
    },
    {
      "cell_type": "code",
      "source": [],
      "metadata": {
        "id": "m5H_xMM0H1Fr"
      },
      "execution_count": null,
      "outputs": []
    }
  ]
}