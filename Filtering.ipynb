{
  "nbformat": 4,
  "nbformat_minor": 0,
  "metadata": {
    "colab": {
      "provenance": [],
      "authorship_tag": "ABX9TyPzl0k6D6UV+kCHBFUEUfRD",
      "include_colab_link": true
    },
    "kernelspec": {
      "name": "python3",
      "display_name": "Python 3"
    },
    "language_info": {
      "name": "python"
    }
  },
  "cells": [
    {
      "cell_type": "markdown",
      "metadata": {
        "id": "view-in-github",
        "colab_type": "text"
      },
      "source": [
        "<a href=\"https://colab.research.google.com/github/OlaotanOpakunle/Python-Data-Science/blob/main/Filtering.ipynb\" target=\"_parent\"><img src=\"https://colab.research.google.com/assets/colab-badge.svg\" alt=\"Open In Colab\"/></a>"
      ]
    },
    {
      "cell_type": "code",
      "execution_count": 1,
      "metadata": {
        "id": "H7q4e0YSaXAM"
      },
      "outputs": [],
      "source": [
        "import pandas as pd\n",
        "import numpy as np"
      ]
    },
    {
      "cell_type": "code",
      "source": [
        "alcohol = pd.read_csv('https://andybek.com/pandas-drinks', usecols=['country', 'wine_servings'], index_col='country', squeeze=True)"
      ],
      "metadata": {
        "id": "r3r3sNwla-Aw"
      },
      "execution_count": 2,
      "outputs": []
    },
    {
      "cell_type": "code",
      "source": [
        "alcohol.head()"
      ],
      "metadata": {
        "colab": {
          "base_uri": "https://localhost:8080/"
        },
        "id": "lX4w7QC_bUrA",
        "outputId": "d587efb1-9bf7-49ff-f2b5-fb17bd775af3"
      },
      "execution_count": 3,
      "outputs": [
        {
          "output_type": "execute_result",
          "data": {
            "text/plain": [
              "country\n",
              "Afghanistan      NaN\n",
              "Albania         54.0\n",
              "Algeria         14.0\n",
              "Andorra        312.0\n",
              "Angola          45.0\n",
              "Name: wine_servings, dtype: float64"
            ]
          },
          "metadata": {},
          "execution_count": 3
        }
      ]
    },
    {
      "cell_type": "code",
      "source": [
        "alcohol.describe()"
      ],
      "metadata": {
        "colab": {
          "base_uri": "https://localhost:8080/"
        },
        "id": "Y2ZFI69nbW3-",
        "outputId": "0a9fe2dc-d276-4953-cfcb-4b66e6c55522"
      },
      "execution_count": 5,
      "outputs": [
        {
          "output_type": "execute_result",
          "data": {
            "text/plain": [
              "count    162.000000\n",
              "mean      50.746914\n",
              "std       76.134917\n",
              "min        1.000000\n",
              "25%        3.000000\n",
              "50%       11.500000\n",
              "75%       61.250000\n",
              "max      339.000000\n",
              "Name: wine_servings, dtype: float64"
            ]
          },
          "metadata": {},
          "execution_count": 5
        }
      ]
    },
    {
      "cell_type": "code",
      "source": [
        "alcohol.diff().head()"
      ],
      "metadata": {
        "colab": {
          "base_uri": "https://localhost:8080/"
        },
        "id": "3XLkQkbubZy3",
        "outputId": "c9ed3a08-732d-42cf-80fe-ee6e2ef5dae3"
      },
      "execution_count": 6,
      "outputs": [
        {
          "output_type": "execute_result",
          "data": {
            "text/plain": [
              "country\n",
              "Afghanistan      NaN\n",
              "Albania          NaN\n",
              "Algeria        -40.0\n",
              "Andorra        298.0\n",
              "Angola        -267.0\n",
              "Name: wine_servings, dtype: float64"
            ]
          },
          "metadata": {},
          "execution_count": 6
        }
      ]
    },
    {
      "cell_type": "code",
      "source": [
        "alcohol.diff(periods=2).head()"
      ],
      "metadata": {
        "colab": {
          "base_uri": "https://localhost:8080/"
        },
        "id": "A4y1llVibkPe",
        "outputId": "1a34fad8-cfa2-46f0-d46f-8d93af07ea10"
      },
      "execution_count": 7,
      "outputs": [
        {
          "output_type": "execute_result",
          "data": {
            "text/plain": [
              "country\n",
              "Afghanistan      NaN\n",
              "Albania          NaN\n",
              "Algeria          NaN\n",
              "Andorra        258.0\n",
              "Angola          31.0\n",
              "Name: wine_servings, dtype: float64"
            ]
          },
          "metadata": {},
          "execution_count": 7
        }
      ]
    },
    {
      "cell_type": "code",
      "source": [
        "miniAlc = alcohol[:10]"
      ],
      "metadata": {
        "id": "YtnaZOHeb6nu"
      },
      "execution_count": 8,
      "outputs": []
    },
    {
      "cell_type": "code",
      "source": [
        "miniAlc"
      ],
      "metadata": {
        "colab": {
          "base_uri": "https://localhost:8080/"
        },
        "id": "ftNWxZxccxd-",
        "outputId": "5dc7c82a-b43f-4806-8648-2089232615f9"
      },
      "execution_count": 9,
      "outputs": [
        {
          "output_type": "execute_result",
          "data": {
            "text/plain": [
              "country\n",
              "Afghanistan            NaN\n",
              "Albania               54.0\n",
              "Algeria               14.0\n",
              "Andorra              312.0\n",
              "Angola                45.0\n",
              "Antigua & Barbuda     45.0\n",
              "Argentina            221.0\n",
              "Armenia               11.0\n",
              "Australia            212.0\n",
              "Austria              191.0\n",
              "Name: wine_servings, dtype: float64"
            ]
          },
          "metadata": {},
          "execution_count": 9
        }
      ]
    },
    {
      "cell_type": "code",
      "source": [
        "for i in miniAlc:\n",
        "  print(i)"
      ],
      "metadata": {
        "colab": {
          "base_uri": "https://localhost:8080/"
        },
        "id": "UAv9JmtIcysL",
        "outputId": "45b9ea68-c917-48c4-9a60-5a3f1ef7facd"
      },
      "execution_count": 10,
      "outputs": [
        {
          "output_type": "stream",
          "name": "stdout",
          "text": [
            "nan\n",
            "54.0\n",
            "14.0\n",
            "312.0\n",
            "45.0\n",
            "45.0\n",
            "221.0\n",
            "11.0\n",
            "212.0\n",
            "191.0\n"
          ]
        }
      ]
    },
    {
      "cell_type": "code",
      "source": [
        "# Filtering countries that contains a v"
      ],
      "metadata": {
        "id": "VVkC08nidvE6"
      },
      "execution_count": 15,
      "outputs": []
    },
    {
      "cell_type": "code",
      "source": [
        "alcohol.filter(regex='v')"
      ],
      "metadata": {
        "colab": {
          "base_uri": "https://localhost:8080/"
        },
        "id": "_wSbccE6ecEr",
        "outputId": "d93ea311-6401-40c1-bda4-52f7ccd56253"
      },
      "execution_count": 16,
      "outputs": [
        {
          "output_type": "execute_result",
          "data": {
            "text/plain": [
              "country\n",
              "Bolivia                 8.0\n",
              "Bosnia-Herzegovina      8.0\n",
              "Cote d'Ivoire           7.0\n",
              "El Salvador             2.0\n",
              "Latvia                 62.0\n",
              "Maldives                NaN\n",
              "Moldova                18.0\n",
              "St. Kitts & Nevis      32.0\n",
              "Slovakia              116.0\n",
              "Slovenia              276.0\n",
              "Tuvalu                  9.0\n",
              "Name: wine_servings, dtype: float64"
            ]
          },
          "metadata": {},
          "execution_count": 16
        }
      ]
    },
    {
      "cell_type": "code",
      "source": [
        "# Filtering countries that start with a v"
      ],
      "metadata": {
        "id": "aa77r6cHegfg"
      },
      "execution_count": 17,
      "outputs": []
    },
    {
      "cell_type": "code",
      "source": [
        "alcohol.filter(regex='^V')"
      ],
      "metadata": {
        "colab": {
          "base_uri": "https://localhost:8080/"
        },
        "id": "eqgNPPipes5c",
        "outputId": "85ad5ee5-1867-48da-9057-b1504c5ddb34"
      },
      "execution_count": 19,
      "outputs": [
        {
          "output_type": "execute_result",
          "data": {
            "text/plain": [
              "country\n",
              "Vanuatu      11.0\n",
              "Venezuela     3.0\n",
              "Vietnam       1.0\n",
              "Name: wine_servings, dtype: float64"
            ]
          },
          "metadata": {},
          "execution_count": 19
        }
      ]
    },
    {
      "cell_type": "code",
      "source": [
        "#Filtering countries that start with D | regex = regular expressions"
      ],
      "metadata": {
        "id": "cC1kjhpde0Nf"
      },
      "execution_count": 20,
      "outputs": []
    },
    {
      "cell_type": "code",
      "source": [
        "alcohol.filter(regex='^D')"
      ],
      "metadata": {
        "colab": {
          "base_uri": "https://localhost:8080/"
        },
        "id": "ss_-vgr1fXzM",
        "outputId": "a8aebc18-f7ef-4275-efc9-eef568d7b479"
      },
      "execution_count": 21,
      "outputs": [
        {
          "output_type": "execute_result",
          "data": {
            "text/plain": [
              "country\n",
              "DR Congo                1.0\n",
              "Denmark               278.0\n",
              "Djibouti                3.0\n",
              "Dominica               26.0\n",
              "Dominican Republic      9.0\n",
              "Name: wine_servings, dtype: float64"
            ]
          },
          "metadata": {},
          "execution_count": 21
        }
      ]
    },
    {
      "cell_type": "code",
      "source": [
        "alcohol.filter(like='stan')"
      ],
      "metadata": {
        "colab": {
          "base_uri": "https://localhost:8080/"
        },
        "id": "ue34JFypfbx3",
        "outputId": "258a5814-6636-4bda-cbc4-cf380c589846"
      },
      "execution_count": 22,
      "outputs": [
        {
          "output_type": "execute_result",
          "data": {
            "text/plain": [
              "country\n",
              "Afghanistan      NaN\n",
              "Kazakhstan      12.0\n",
              "Kyrgyzstan       6.0\n",
              "Pakistan         NaN\n",
              "Tajikistan       NaN\n",
              "Turkmenistan    32.0\n",
              "Uzbekistan       8.0\n",
              "Name: wine_servings, dtype: float64"
            ]
          },
          "metadata": {},
          "execution_count": 22
        }
      ]
    },
    {
      "cell_type": "code",
      "source": [
        "alcohol[alcohol>200]"
      ],
      "metadata": {
        "colab": {
          "base_uri": "https://localhost:8080/"
        },
        "id": "10NFPXvNfxB7",
        "outputId": "109bbbe1-9510-463f-f315-5ad7efbd67aa"
      },
      "execution_count": 24,
      "outputs": [
        {
          "output_type": "execute_result",
          "data": {
            "text/plain": [
              "country\n",
              "Andorra              312.0\n",
              "Argentina            221.0\n",
              "Australia            212.0\n",
              "Belgium              212.0\n",
              "Croatia              254.0\n",
              "Denmark              278.0\n",
              "Equatorial Guinea    233.0\n",
              "Greece               218.0\n",
              "Italy                237.0\n",
              "Luxembourg           271.0\n",
              "Portugal             339.0\n",
              "Slovenia             276.0\n",
              "Name: wine_servings, dtype: float64"
            ]
          },
          "metadata": {},
          "execution_count": 24
        }
      ]
    },
    {
      "cell_type": "code",
      "source": [
        "def gt200(x):\n",
        "  return x > 200"
      ],
      "metadata": {
        "id": "xEeRcA4Jg8ch"
      },
      "execution_count": 25,
      "outputs": []
    },
    {
      "cell_type": "code",
      "source": [
        "alcohol[gt200]"
      ],
      "metadata": {
        "colab": {
          "base_uri": "https://localhost:8080/"
        },
        "id": "uTe7o64ZhPlA",
        "outputId": "bc804f9e-52b4-436f-af11-07ad2875225b"
      },
      "execution_count": 26,
      "outputs": [
        {
          "output_type": "execute_result",
          "data": {
            "text/plain": [
              "country\n",
              "Andorra              312.0\n",
              "Argentina            221.0\n",
              "Australia            212.0\n",
              "Belgium              212.0\n",
              "Croatia              254.0\n",
              "Denmark              278.0\n",
              "Equatorial Guinea    233.0\n",
              "Greece               218.0\n",
              "Italy                237.0\n",
              "Luxembourg           271.0\n",
              "Portugal             339.0\n",
              "Slovenia             276.0\n",
              "Name: wine_servings, dtype: float64"
            ]
          },
          "metadata": {},
          "execution_count": 26
        }
      ]
    },
    {
      "cell_type": "code",
      "source": [
        "def gt100(x):\n",
        "  return x > 100"
      ],
      "metadata": {
        "id": "_Hnmwb3vhTa-"
      },
      "execution_count": 40,
      "outputs": []
    },
    {
      "cell_type": "code",
      "source": [
        "alcohol[gt100]"
      ],
      "metadata": {
        "colab": {
          "base_uri": "https://localhost:8080/"
        },
        "id": "cPLiK5lmhlWz",
        "outputId": "e7b3d06a-d764-467e-d6a8-2928b781d1a4"
      },
      "execution_count": 41,
      "outputs": [
        {
          "output_type": "execute_result",
          "data": {
            "text/plain": [
              "country\n",
              "Andorra              312.0\n",
              "Argentina            221.0\n",
              "Australia            212.0\n",
              "Austria              191.0\n",
              "Belgium              212.0\n",
              "Chile                172.0\n",
              "Croatia              254.0\n",
              "Cyprus               113.0\n",
              "Czech Republic       134.0\n",
              "Denmark              278.0\n",
              "Equatorial Guinea    233.0\n",
              "Georgia              149.0\n",
              "Germany              175.0\n",
              "Greece               218.0\n",
              "Hungary              185.0\n",
              "Ireland              165.0\n",
              "Italy                237.0\n",
              "Laos                 123.0\n",
              "Luxembourg           271.0\n",
              "Montenegro           128.0\n",
              "New Zealand          175.0\n",
              "Norway               129.0\n",
              "Portugal             339.0\n",
              "Romania              167.0\n",
              "Serbia               127.0\n",
              "Slovakia             116.0\n",
              "Slovenia             276.0\n",
              "Spain                112.0\n",
              "Sweden               186.0\n",
              "United Kingdom       195.0\n",
              "Name: wine_servings, dtype: float64"
            ]
          },
          "metadata": {},
          "execution_count": 41
        }
      ]
    },
    {
      "cell_type": "code",
      "source": [
        "# The where method"
      ],
      "metadata": {
        "id": "IoUg-ep3iP3N"
      },
      "execution_count": 42,
      "outputs": []
    },
    {
      "cell_type": "code",
      "source": [
        "alcohol[alcohol == alcohol.where(lambda x: x>200, other='too small')]"
      ],
      "metadata": {
        "colab": {
          "base_uri": "https://localhost:8080/"
        },
        "id": "wO8BfwVVkdMm",
        "outputId": "f2c1b733-132f-41c1-9335-4702314b381d"
      },
      "execution_count": 45,
      "outputs": [
        {
          "output_type": "execute_result",
          "data": {
            "text/plain": [
              "country\n",
              "Andorra              312.0\n",
              "Argentina            221.0\n",
              "Australia            212.0\n",
              "Belgium              212.0\n",
              "Croatia              254.0\n",
              "Denmark              278.0\n",
              "Equatorial Guinea    233.0\n",
              "Greece               218.0\n",
              "Italy                237.0\n",
              "Luxembourg           271.0\n",
              "Portugal             339.0\n",
              "Slovenia             276.0\n",
              "Name: wine_servings, dtype: float64"
            ]
          },
          "metadata": {},
          "execution_count": 45
        }
      ]
    },
    {
      "cell_type": "code",
      "source": [
        "# or..\n"
      ],
      "metadata": {
        "id": "8b4J2KAnkw7U"
      },
      "execution_count": 46,
      "outputs": []
    },
    {
      "cell_type": "code",
      "source": [
        "alcohol.where(lambda x: x>200).dropna()"
      ],
      "metadata": {
        "colab": {
          "base_uri": "https://localhost:8080/"
        },
        "id": "8ssFzU8SlQE0",
        "outputId": "aac65575-6376-48dd-f998-b9dec1ec509c"
      },
      "execution_count": 48,
      "outputs": [
        {
          "output_type": "execute_result",
          "data": {
            "text/plain": [
              "country\n",
              "Andorra              312.0\n",
              "Argentina            221.0\n",
              "Australia            212.0\n",
              "Belgium              212.0\n",
              "Croatia              254.0\n",
              "Denmark              278.0\n",
              "Equatorial Guinea    233.0\n",
              "Greece               218.0\n",
              "Italy                237.0\n",
              "Luxembourg           271.0\n",
              "Portugal             339.0\n",
              "Slovenia             276.0\n",
              "Name: wine_servings, dtype: float64"
            ]
          },
          "metadata": {},
          "execution_count": 48
        }
      ]
    },
    {
      "cell_type": "code",
      "source": [
        "alcohol.where(lambda x: x<=200).dropna()"
      ],
      "metadata": {
        "colab": {
          "base_uri": "https://localhost:8080/"
        },
        "id": "hOTKpB9LlYek",
        "outputId": "6e82d6bd-dbc1-43d0-df03-1e4938da1c6e"
      },
      "execution_count": 49,
      "outputs": [
        {
          "output_type": "execute_result",
          "data": {
            "text/plain": [
              "country\n",
              "Albania              54.0\n",
              "Algeria              14.0\n",
              "Angola               45.0\n",
              "Antigua & Barbuda    45.0\n",
              "Armenia              11.0\n",
              "                     ... \n",
              "Vanuatu              11.0\n",
              "Venezuela             3.0\n",
              "Vietnam               1.0\n",
              "Zambia                4.0\n",
              "Zimbabwe              4.0\n",
              "Name: wine_servings, Length: 150, dtype: float64"
            ]
          },
          "metadata": {},
          "execution_count": 49
        }
      ]
    },
    {
      "cell_type": "code",
      "source": [
        "# The mask method"
      ],
      "metadata": {
        "id": "kIiasCNimRwZ"
      },
      "execution_count": 50,
      "outputs": []
    },
    {
      "cell_type": "code",
      "source": [
        "alcohol.mask(lambda x: x>200).dropna()"
      ],
      "metadata": {
        "colab": {
          "base_uri": "https://localhost:8080/"
        },
        "id": "6TB06RBWmd1w",
        "outputId": "a8bce9db-35b0-498b-ab6c-0fdee346c708"
      },
      "execution_count": 51,
      "outputs": [
        {
          "output_type": "execute_result",
          "data": {
            "text/plain": [
              "country\n",
              "Albania              54.0\n",
              "Algeria              14.0\n",
              "Angola               45.0\n",
              "Antigua & Barbuda    45.0\n",
              "Armenia              11.0\n",
              "                     ... \n",
              "Vanuatu              11.0\n",
              "Venezuela             3.0\n",
              "Vietnam               1.0\n",
              "Zambia                4.0\n",
              "Zimbabwe              4.0\n",
              "Name: wine_servings, Length: 150, dtype: float64"
            ]
          },
          "metadata": {},
          "execution_count": 51
        }
      ]
    },
    {
      "cell_type": "code",
      "source": [],
      "metadata": {
        "id": "3nOwkVYBmr0U"
      },
      "execution_count": null,
      "outputs": []
    }
  ]
}