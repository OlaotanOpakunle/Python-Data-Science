{
  "nbformat": 4,
  "nbformat_minor": 0,
  "metadata": {
    "colab": {
      "provenance": [],
      "authorship_tag": "ABX9TyPRQQPZYrkvmMSLSIsxH3X1",
      "include_colab_link": true
    },
    "kernelspec": {
      "name": "python3",
      "display_name": "Python 3"
    },
    "language_info": {
      "name": "python"
    }
  },
  "cells": [
    {
      "cell_type": "markdown",
      "metadata": {
        "id": "view-in-github",
        "colab_type": "text"
      },
      "source": [
        "<a href=\"https://colab.research.google.com/github/OlaotanOpakunle/Python-Data-Science/blob/main/Boolean_Masks_And_The_loc_Indexer.ipynb\" target=\"_parent\"><img src=\"https://colab.research.google.com/assets/colab-badge.svg\" alt=\"Open In Colab\"/></a>"
      ]
    },
    {
      "cell_type": "code",
      "execution_count": 1,
      "metadata": {
        "id": "mi4oKJaoTrbZ"
      },
      "outputs": [],
      "source": [
        "import pandas as pd\n",
        "from string import ascii_uppercase\n",
        "from string import ascii_lowercase"
      ]
    },
    {
      "cell_type": "code",
      "source": [
        "labelledAlpha = pd.Series(data = list(ascii_lowercase), index = map(lambda x: \"label_\" + x, list(ascii_uppercase)))"
      ],
      "metadata": {
        "id": "kV9pnmxqUK71"
      },
      "execution_count": 2,
      "outputs": []
    },
    {
      "cell_type": "code",
      "source": [
        "labelledAlpha[\"label_V\"]"
      ],
      "metadata": {
        "colab": {
          "base_uri": "https://localhost:8080/",
          "height": 35
        },
        "id": "lvD_y4LWUPj_",
        "outputId": "02bdfbb9-b4d9-4ff7-e4c0-5fd44854094d"
      },
      "execution_count": 3,
      "outputs": [
        {
          "output_type": "execute_result",
          "data": {
            "text/plain": [
              "'v'"
            ],
            "application/vnd.google.colaboratory.intrinsic+json": {
              "type": "string"
            }
          },
          "metadata": {},
          "execution_count": 3
        }
      ]
    },
    {
      "cell_type": "code",
      "source": [
        "labelledAlpha.label_V"
      ],
      "metadata": {
        "colab": {
          "base_uri": "https://localhost:8080/",
          "height": 35
        },
        "id": "atJ_h6lfUV74",
        "outputId": "0eec2936-2cc1-40a7-e5e8-b5e842645367"
      },
      "execution_count": 4,
      "outputs": [
        {
          "output_type": "execute_result",
          "data": {
            "text/plain": [
              "'v'"
            ],
            "application/vnd.google.colaboratory.intrinsic+json": {
              "type": "string"
            }
          },
          "metadata": {},
          "execution_count": 4
        }
      ]
    },
    {
      "cell_type": "code",
      "source": [
        "# Has limitations"
      ],
      "metadata": {
        "id": "miap-BwaU7WX"
      },
      "execution_count": 5,
      "outputs": []
    },
    {
      "cell_type": "code",
      "source": [
        "labelledAlpha[\"label_V\" : \"label_X\"]"
      ],
      "metadata": {
        "colab": {
          "base_uri": "https://localhost:8080/"
        },
        "id": "OLIjRSeoVCls",
        "outputId": "7b95b4a6-5022-4aa5-832b-1e95d8e312be"
      },
      "execution_count": 6,
      "outputs": [
        {
          "output_type": "execute_result",
          "data": {
            "text/plain": [
              "label_V    v\n",
              "label_W    w\n",
              "label_X    x\n",
              "dtype: object"
            ]
          },
          "metadata": {},
          "execution_count": 6
        }
      ]
    },
    {
      "cell_type": "code",
      "source": [
        "# Error labelledAlpha.label_V : label_X"
      ],
      "metadata": {
        "id": "eos_N8avVIJE"
      },
      "execution_count": 8,
      "outputs": []
    },
    {
      "cell_type": "code",
      "source": [
        "labelledAlpha[\"label_F\" : \"label_J\"]"
      ],
      "metadata": {
        "colab": {
          "base_uri": "https://localhost:8080/"
        },
        "id": "rA_D9bk_VOwB",
        "outputId": "8814cccd-d173-458c-c634-25323139619c"
      },
      "execution_count": 9,
      "outputs": [
        {
          "output_type": "execute_result",
          "data": {
            "text/plain": [
              "label_F    f\n",
              "label_G    g\n",
              "label_H    h\n",
              "label_I    i\n",
              "label_J    j\n",
              "dtype: object"
            ]
          },
          "metadata": {},
          "execution_count": 9
        }
      ]
    },
    {
      "cell_type": "code",
      "source": [
        "labelledAlpha.loc[\"label_F\" : \"label_J\"]"
      ],
      "metadata": {
        "colab": {
          "base_uri": "https://localhost:8080/"
        },
        "id": "dn-7kWTBYHOB",
        "outputId": "f921a700-8e9e-4509-a1fe-167f03ac1bd0"
      },
      "execution_count": 10,
      "outputs": [
        {
          "output_type": "execute_result",
          "data": {
            "text/plain": [
              "label_F    f\n",
              "label_G    g\n",
              "label_H    h\n",
              "label_I    i\n",
              "label_J    j\n",
              "dtype: object"
            ]
          },
          "metadata": {},
          "execution_count": 10
        }
      ]
    },
    {
      "cell_type": "code",
      "source": [
        "booksSeries = [\"Fooled by Randomness\", \"Sapiens\", \"Lenin on the Train\"]"
      ],
      "metadata": {
        "id": "UhoJyr97YSVZ"
      },
      "execution_count": 17,
      "outputs": []
    },
    {
      "cell_type": "code",
      "source": [
        "booksSeries = pd.Series((booksSeries), name = \"my favourite books\")"
      ],
      "metadata": {
        "id": "S-rmnx_1ZhbR"
      },
      "execution_count": 24,
      "outputs": []
    },
    {
      "cell_type": "code",
      "source": [
        "booksSeries.loc[[True, True, True]]"
      ],
      "metadata": {
        "colab": {
          "base_uri": "https://localhost:8080/"
        },
        "id": "KVytVhz5Zi1D",
        "outputId": "3d256632-4532-4078-c205-6b369db2b5ee"
      },
      "execution_count": 25,
      "outputs": [
        {
          "output_type": "execute_result",
          "data": {
            "text/plain": [
              "0    Fooled by Randomness\n",
              "1                 Sapiens\n",
              "2      Lenin on the Train\n",
              "Name: my favourite books, dtype: object"
            ]
          },
          "metadata": {},
          "execution_count": 25
        }
      ]
    },
    {
      "cell_type": "code",
      "source": [
        "booksSeries.loc[[True, False, True]]"
      ],
      "metadata": {
        "colab": {
          "base_uri": "https://localhost:8080/"
        },
        "id": "eU2V6bRsatCL",
        "outputId": "c401a79a-1fda-4b21-8e00-809d1ac1189f"
      },
      "execution_count": 26,
      "outputs": [
        {
          "output_type": "execute_result",
          "data": {
            "text/plain": [
              "0    Fooled by Randomness\n",
              "2      Lenin on the Train\n",
              "Name: my favourite books, dtype: object"
            ]
          },
          "metadata": {},
          "execution_count": 26
        }
      ]
    },
    {
      "cell_type": "code",
      "source": [
        "labelledAlpha.loc[[True for i in range(26)]]"
      ],
      "metadata": {
        "colab": {
          "base_uri": "https://localhost:8080/"
        },
        "id": "FhqNHnSob9Dq",
        "outputId": "6954fcc1-7b6b-406d-ee79-ebab619d0eba"
      },
      "execution_count": 29,
      "outputs": [
        {
          "output_type": "execute_result",
          "data": {
            "text/plain": [
              "label_A    a\n",
              "label_B    b\n",
              "label_C    c\n",
              "label_D    d\n",
              "label_E    e\n",
              "label_F    f\n",
              "label_G    g\n",
              "label_H    h\n",
              "label_I    i\n",
              "label_J    j\n",
              "label_K    k\n",
              "label_L    l\n",
              "label_M    m\n",
              "label_N    n\n",
              "label_O    o\n",
              "label_P    p\n",
              "label_Q    q\n",
              "label_R    r\n",
              "label_S    s\n",
              "label_T    t\n",
              "label_U    u\n",
              "label_V    v\n",
              "label_W    w\n",
              "label_X    x\n",
              "label_Y    y\n",
              "label_Z    z\n",
              "dtype: object"
            ]
          },
          "metadata": {},
          "execution_count": 29
        }
      ]
    },
    {
      "cell_type": "code",
      "source": [
        "labelledAlpha.loc[[True if i%2 ==0 else False for i in range(26)]]"
      ],
      "metadata": {
        "colab": {
          "base_uri": "https://localhost:8080/"
        },
        "id": "cazY0OzdeCGp",
        "outputId": "8156b24a-69e7-4dc4-e19d-99550068c5b0"
      },
      "execution_count": 30,
      "outputs": [
        {
          "output_type": "execute_result",
          "data": {
            "text/plain": [
              "label_A    a\n",
              "label_C    c\n",
              "label_E    e\n",
              "label_G    g\n",
              "label_I    i\n",
              "label_K    k\n",
              "label_M    m\n",
              "label_O    o\n",
              "label_Q    q\n",
              "label_S    s\n",
              "label_U    u\n",
              "label_W    w\n",
              "label_Y    y\n",
              "dtype: object"
            ]
          },
          "metadata": {},
          "execution_count": 30
        }
      ]
    },
    {
      "cell_type": "code",
      "source": [],
      "metadata": {
        "id": "P_Q3uSsVeibl"
      },
      "execution_count": null,
      "outputs": []
    }
  ]
}