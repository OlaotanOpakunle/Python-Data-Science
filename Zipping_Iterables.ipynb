{
  "nbformat": 4,
  "nbformat_minor": 0,
  "metadata": {
    "colab": {
      "provenance": [],
      "authorship_tag": "ABX9TyMr9EqhI/4OUiKXH1kTCFTj",
      "include_colab_link": true
    },
    "kernelspec": {
      "name": "python3",
      "display_name": "Python 3"
    },
    "language_info": {
      "name": "python"
    }
  },
  "cells": [
    {
      "cell_type": "markdown",
      "metadata": {
        "id": "view-in-github",
        "colab_type": "text"
      },
      "source": [
        "<a href=\"https://colab.research.google.com/github/OlaotanOpakunle/Python-Data-Science/blob/main/Zipping_Iterables.ipynb\" target=\"_parent\"><img src=\"https://colab.research.google.com/assets/colab-badge.svg\" alt=\"Open In Colab\"/></a>"
      ]
    },
    {
      "cell_type": "code",
      "execution_count": 2,
      "metadata": {
        "id": "DVkejlxE1j2H"
      },
      "outputs": [],
      "source": [
        "names = [\"Andrew\", \"Brian\", \"Caledon\", \"Dierdre\"];\n",
        "score = [100, 90, 74, 84];"
      ]
    },
    {
      "cell_type": "code",
      "source": [
        "zip(names, score)"
      ],
      "metadata": {
        "colab": {
          "base_uri": "https://localhost:8080/"
        },
        "id": "TehoAcUf10AJ",
        "outputId": "fd33b59d-3fd3-4a2c-e20f-4f557c45dcf6"
      },
      "execution_count": 3,
      "outputs": [
        {
          "output_type": "execute_result",
          "data": {
            "text/plain": [
              "<zip at 0x7fe563dc2dc0>"
            ]
          },
          "metadata": {},
          "execution_count": 3
        }
      ]
    },
    {
      "cell_type": "code",
      "source": [
        "list(zip(names, score))"
      ],
      "metadata": {
        "colab": {
          "base_uri": "https://localhost:8080/"
        },
        "id": "FToeIsHP2MYB",
        "outputId": "f9c562fd-70cb-45a5-d396-bc3ba55ef6bc"
      },
      "execution_count": 4,
      "outputs": [
        {
          "output_type": "execute_result",
          "data": {
            "text/plain": [
              "[('Andrew', 100), ('Brian', 90), ('Caledon', 74), ('Dierdre', 84)]"
            ]
          },
          "metadata": {},
          "execution_count": 4
        }
      ]
    },
    {
      "cell_type": "code",
      "source": [
        "for i in list(zip(names, score)):\n",
        "  print (i)"
      ],
      "metadata": {
        "colab": {
          "base_uri": "https://localhost:8080/"
        },
        "id": "OlymV2lz2QLD",
        "outputId": "7d212312-a2b4-409b-d545-562abeb736af"
      },
      "execution_count": 6,
      "outputs": [
        {
          "output_type": "stream",
          "name": "stdout",
          "text": [
            "('Andrew', 100)\n",
            "('Brian', 90)\n",
            "('Caledon', 74)\n",
            "('Dierdre', 84)\n"
          ]
        }
      ]
    },
    {
      "cell_type": "code",
      "source": [
        "for studentName, studentScore in zip(names, score):\n",
        "  print(\"{} got a score of {} on the exam\".format(studentName, studentScore))"
      ],
      "metadata": {
        "colab": {
          "base_uri": "https://localhost:8080/"
        },
        "id": "i_YGz70f2rpc",
        "outputId": "6d8e34b6-3211-445d-b332-0d4f76971c96"
      },
      "execution_count": 8,
      "outputs": [
        {
          "output_type": "stream",
          "name": "stdout",
          "text": [
            "Andrew got a score of 100 on the exam\n",
            "Brian got a score of 90 on the exam\n",
            "Caledon got a score of 74 on the exam\n",
            "Dierdre got a score of 84 on the exam\n"
          ]
        }
      ]
    },
    {
      "cell_type": "code",
      "source": [
        "names = [\"Andrew\", \"Brian\", \"Caledon\", \"Dierdre\"];\n",
        "score = [100, 90, 74, 84];\n",
        "attendance = [True, True, False, True]"
      ],
      "metadata": {
        "id": "R6HzG_H03UA3"
      },
      "execution_count": 9,
      "outputs": []
    },
    {
      "cell_type": "code",
      "source": [
        "zip(names, score, attendance)"
      ],
      "metadata": {
        "colab": {
          "base_uri": "https://localhost:8080/"
        },
        "id": "xfbKjYRY3ySp",
        "outputId": "96adf4c8-1b92-492d-ff8f-7f950e17a757"
      },
      "execution_count": 12,
      "outputs": [
        {
          "output_type": "execute_result",
          "data": {
            "text/plain": [
              "<zip at 0x7fe563ce7eb0>"
            ]
          },
          "metadata": {},
          "execution_count": 12
        }
      ]
    },
    {
      "cell_type": "code",
      "source": [
        "for studentName, studentScore, attendance in zip(names, score, attendance):\n",
        "  print(\"{} with an attendance record of {}, got a score of {} in the test\".format(studentName, attendance, studentScore))"
      ],
      "metadata": {
        "colab": {
          "base_uri": "https://localhost:8080/"
        },
        "id": "lWoNx69g38sY",
        "outputId": "471cd4fb-1b15-4e6e-caac-a55e715b672a"
      },
      "execution_count": 13,
      "outputs": [
        {
          "output_type": "stream",
          "name": "stdout",
          "text": [
            "Andrew with an attendance record of True, got a score of 100 in the test\n",
            "Brian with an attendance record of True, got a score of 90 in the test\n",
            "Caledon with an attendance record of False, got a score of 74 in the test\n",
            "Dierdre with an attendance record of True, got a score of 84 in the test\n"
          ]
        }
      ]
    },
    {
      "cell_type": "code",
      "source": [],
      "metadata": {
        "id": "GZnZHZhD4pjX"
      },
      "execution_count": null,
      "outputs": []
    }
  ]
}