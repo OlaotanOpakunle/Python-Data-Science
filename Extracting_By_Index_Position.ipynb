{
  "nbformat": 4,
  "nbformat_minor": 0,
  "metadata": {
    "colab": {
      "provenance": [],
      "authorship_tag": "ABX9TyPBl8dzXZ2hZH9GVkYIPhHi",
      "include_colab_link": true
    },
    "kernelspec": {
      "name": "python3",
      "display_name": "Python 3"
    },
    "language_info": {
      "name": "python"
    }
  },
  "cells": [
    {
      "cell_type": "markdown",
      "metadata": {
        "id": "view-in-github",
        "colab_type": "text"
      },
      "source": [
        "<a href=\"https://colab.research.google.com/github/OlaotanOpakunle/Python-Data-Science/blob/main/Extracting_By_Index_Position.ipynb\" target=\"_parent\"><img src=\"https://colab.research.google.com/assets/colab-badge.svg\" alt=\"Open In Colab\"/></a>"
      ]
    },
    {
      "cell_type": "code",
      "execution_count": 1,
      "metadata": {
        "id": "5ZGYUeqMIAtE"
      },
      "outputs": [],
      "source": [
        "import pandas as pd\n"
      ]
    },
    {
      "cell_type": "code",
      "source": [
        "from string import ascii_lowercase"
      ],
      "metadata": {
        "id": "bzrQh_TzIwd-"
      },
      "execution_count": 3,
      "outputs": []
    },
    {
      "cell_type": "code",
      "source": [
        "from string import ascii_uppercase"
      ],
      "metadata": {
        "id": "C9Tmoe9aI4Tk"
      },
      "execution_count": 4,
      "outputs": []
    },
    {
      "cell_type": "code",
      "source": [
        "ascii_uppercase"
      ],
      "metadata": {
        "colab": {
          "base_uri": "https://localhost:8080/",
          "height": 35
        },
        "id": "myZCKDTIJOjR",
        "outputId": "7340d840-85e4-4abe-84a9-52b933862d73"
      },
      "execution_count": 5,
      "outputs": [
        {
          "output_type": "execute_result",
          "data": {
            "text/plain": [
              "'ABCDEFGHIJKLMNOPQRSTUVWXYZ'"
            ],
            "application/vnd.google.colaboratory.intrinsic+json": {
              "type": "string"
            }
          },
          "metadata": {},
          "execution_count": 5
        }
      ]
    },
    {
      "cell_type": "code",
      "source": [
        "labelledAlpha = pd.Series(data = list(ascii_lowercase), index = map(lambda x: \"label_\" + x, list(ascii_uppercase)))"
      ],
      "metadata": {
        "id": "y69xYVIFJRrQ"
      },
      "execution_count": 8,
      "outputs": []
    },
    {
      "cell_type": "code",
      "source": [
        "labelledAlpha.head(3)"
      ],
      "metadata": {
        "colab": {
          "base_uri": "https://localhost:8080/"
        },
        "id": "Ax8Yen3QJ3IU",
        "outputId": "086dc286-e395-4046-af09-3bad89135a09"
      },
      "execution_count": 9,
      "outputs": [
        {
          "output_type": "execute_result",
          "data": {
            "text/plain": [
              "label_A    a\n",
              "label_B    b\n",
              "label_C    c\n",
              "dtype: object"
            ]
          },
          "metadata": {},
          "execution_count": 9
        }
      ]
    },
    {
      "cell_type": "code",
      "source": [
        "# 1. What is the first letter?\n",
        "# 2. What is the 11th letter?\n",
        "# 3. What are the first three letters?\n",
        "# 4. What are the sixth through tenth letters?\n",
        "# 5. What are the last 6 letters?"
      ],
      "metadata": {
        "id": "qn1txJEFJ6gc"
      },
      "execution_count": 10,
      "outputs": []
    },
    {
      "cell_type": "code",
      "source": [
        "#1\n",
        "labelledAlpha[0]"
      ],
      "metadata": {
        "colab": {
          "base_uri": "https://localhost:8080/",
          "height": 35
        },
        "id": "Hz2cVwcNLDAt",
        "outputId": "5657202e-91ac-449f-884e-97ea20d0f25f"
      },
      "execution_count": 11,
      "outputs": [
        {
          "output_type": "execute_result",
          "data": {
            "text/plain": [
              "'a'"
            ],
            "application/vnd.google.colaboratory.intrinsic+json": {
              "type": "string"
            }
          },
          "metadata": {},
          "execution_count": 11
        }
      ]
    },
    {
      "cell_type": "code",
      "source": [
        "labelledAlpha['label_A']"
      ],
      "metadata": {
        "colab": {
          "base_uri": "https://localhost:8080/",
          "height": 35
        },
        "id": "CfGp4aEJLJ8-",
        "outputId": "c5760f84-ae04-4492-fd0c-c86279288d67"
      },
      "execution_count": 13,
      "outputs": [
        {
          "output_type": "execute_result",
          "data": {
            "text/plain": [
              "'a'"
            ],
            "application/vnd.google.colaboratory.intrinsic+json": {
              "type": "string"
            }
          },
          "metadata": {},
          "execution_count": 13
        }
      ]
    },
    {
      "cell_type": "code",
      "source": [
        "#2\n",
        "labelledAlpha[\"label_K\"]"
      ],
      "metadata": {
        "colab": {
          "base_uri": "https://localhost:8080/",
          "height": 35
        },
        "id": "4YpS1SWMLVQ1",
        "outputId": "ab0ec7ee-d8ab-48a4-8564-ef7e2ef95023"
      },
      "execution_count": 14,
      "outputs": [
        {
          "output_type": "execute_result",
          "data": {
            "text/plain": [
              "'k'"
            ],
            "application/vnd.google.colaboratory.intrinsic+json": {
              "type": "string"
            }
          },
          "metadata": {},
          "execution_count": 14
        }
      ]
    },
    {
      "cell_type": "code",
      "source": [
        "labelledAlpha[10]"
      ],
      "metadata": {
        "colab": {
          "base_uri": "https://localhost:8080/",
          "height": 35
        },
        "id": "RTZ9XCVQLwht",
        "outputId": "32b7ad6c-eb4b-4552-aeae-ca6eb3d91948"
      },
      "execution_count": 15,
      "outputs": [
        {
          "output_type": "execute_result",
          "data": {
            "text/plain": [
              "'k'"
            ],
            "application/vnd.google.colaboratory.intrinsic+json": {
              "type": "string"
            }
          },
          "metadata": {},
          "execution_count": 15
        }
      ]
    },
    {
      "cell_type": "code",
      "source": [
        "#3\n",
        "labelledAlpha[: \"label_C\"]"
      ],
      "metadata": {
        "colab": {
          "base_uri": "https://localhost:8080/"
        },
        "id": "MzmoMFqOL0Zz",
        "outputId": "4710da3d-13c3-47a2-bb82-70470ff10b24"
      },
      "execution_count": 18,
      "outputs": [
        {
          "output_type": "execute_result",
          "data": {
            "text/plain": [
              "label_A    a\n",
              "label_B    b\n",
              "label_C    c\n",
              "dtype: object"
            ]
          },
          "metadata": {},
          "execution_count": 18
        }
      ]
    },
    {
      "cell_type": "code",
      "source": [
        "labelledAlpha[:3]"
      ],
      "metadata": {
        "colab": {
          "base_uri": "https://localhost:8080/"
        },
        "id": "UHWp7xt-MMIH",
        "outputId": "5ebaaa1f-2d11-46ad-eeb9-419ec6fef0fd"
      },
      "execution_count": 17,
      "outputs": [
        {
          "output_type": "execute_result",
          "data": {
            "text/plain": [
              "label_A    a\n",
              "label_B    b\n",
              "label_C    c\n",
              "dtype: object"
            ]
          },
          "metadata": {},
          "execution_count": 17
        }
      ]
    },
    {
      "cell_type": "code",
      "source": [
        "#4\n",
        "labelledAlpha[5:10]"
      ],
      "metadata": {
        "colab": {
          "base_uri": "https://localhost:8080/"
        },
        "id": "D-iyMwtIMArU",
        "outputId": "0769bfee-d382-47e2-fae7-e1f62b20ff4a"
      },
      "execution_count": 19,
      "outputs": [
        {
          "output_type": "execute_result",
          "data": {
            "text/plain": [
              "label_F    f\n",
              "label_G    g\n",
              "label_H    h\n",
              "label_I    i\n",
              "label_J    j\n",
              "dtype: object"
            ]
          },
          "metadata": {},
          "execution_count": 19
        }
      ]
    },
    {
      "cell_type": "code",
      "source": [
        "labelledAlpha[\"label_F\" : \"label_J\"]"
      ],
      "metadata": {
        "colab": {
          "base_uri": "https://localhost:8080/"
        },
        "id": "uUjpbq_lMqyc",
        "outputId": "807fde25-505c-4911-8c42-c10eeb6efb7e"
      },
      "execution_count": 20,
      "outputs": [
        {
          "output_type": "execute_result",
          "data": {
            "text/plain": [
              "label_F    f\n",
              "label_G    g\n",
              "label_H    h\n",
              "label_I    i\n",
              "label_J    j\n",
              "dtype: object"
            ]
          },
          "metadata": {},
          "execution_count": 20
        }
      ]
    },
    {
      "cell_type": "code",
      "source": [
        "#5\n",
        "labelledAlpha[-6:]"
      ],
      "metadata": {
        "colab": {
          "base_uri": "https://localhost:8080/"
        },
        "id": "qlw2zRk7MiSl",
        "outputId": "cebba8a9-3c9d-4b66-a5fb-b2d4b27c6b0f"
      },
      "execution_count": 21,
      "outputs": [
        {
          "output_type": "execute_result",
          "data": {
            "text/plain": [
              "label_U    u\n",
              "label_V    v\n",
              "label_W    w\n",
              "label_X    x\n",
              "label_Y    y\n",
              "label_Z    z\n",
              "dtype: object"
            ]
          },
          "metadata": {},
          "execution_count": 21
        }
      ]
    },
    {
      "cell_type": "code",
      "source": [
        "labelledAlpha[\"label_U\" : \"label_Z\"]"
      ],
      "metadata": {
        "colab": {
          "base_uri": "https://localhost:8080/"
        },
        "id": "d1uN0VqLNAJ8",
        "outputId": "da8d31fc-4e75-41d7-81b9-59a393e6eeda"
      },
      "execution_count": 22,
      "outputs": [
        {
          "output_type": "execute_result",
          "data": {
            "text/plain": [
              "label_U    u\n",
              "label_V    v\n",
              "label_W    w\n",
              "label_X    x\n",
              "label_Y    y\n",
              "label_Z    z\n",
              "dtype: object"
            ]
          },
          "metadata": {},
          "execution_count": 22
        }
      ]
    },
    {
      "cell_type": "code",
      "source": [],
      "metadata": {
        "id": "u0LUeeQLNGa8"
      },
      "execution_count": null,
      "outputs": []
    }
  ]
}