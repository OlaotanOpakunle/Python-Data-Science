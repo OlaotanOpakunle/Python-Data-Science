{
  "nbformat": 4,
  "nbformat_minor": 0,
  "metadata": {
    "colab": {
      "provenance": [],
      "authorship_tag": "ABX9TyN9uzUmj4no5IZubmmKaeyK",
      "include_colab_link": true
    },
    "kernelspec": {
      "name": "python3",
      "display_name": "Python 3"
    },
    "language_info": {
      "name": "python"
    }
  },
  "cells": [
    {
      "cell_type": "markdown",
      "metadata": {
        "id": "view-in-github",
        "colab_type": "text"
      },
      "source": [
        "<a href=\"https://colab.research.google.com/github/OlaotanOpakunle/Python-Data-Science/blob/main/idxmax()_and_idxmin().ipynb\" target=\"_parent\"><img src=\"https://colab.research.google.com/assets/colab-badge.svg\" alt=\"Open In Colab\"/></a>"
      ]
    },
    {
      "cell_type": "code",
      "execution_count": 1,
      "metadata": {
        "id": "wK8Mtyf5FcIw"
      },
      "outputs": [],
      "source": [
        "import pandas as pd"
      ]
    },
    {
      "cell_type": "code",
      "source": [
        "alcohol = pd.read_csv('https://andybek.com/pandas-drinks', usecols=[\"country\", \"wine_servings\"], index_col=\"country\", squeeze=True)"
      ],
      "metadata": {
        "id": "5wSjnkktFgFH"
      },
      "execution_count": 25,
      "outputs": []
    },
    {
      "cell_type": "code",
      "source": [
        "alcohol.min()"
      ],
      "metadata": {
        "colab": {
          "base_uri": "https://localhost:8080/"
        },
        "id": "g3ocvD2Aeiox",
        "outputId": "7d394f34-136d-4d11-842b-7f7e0f4dbda4"
      },
      "execution_count": 26,
      "outputs": [
        {
          "output_type": "execute_result",
          "data": {
            "text/plain": [
              "1.0"
            ]
          },
          "metadata": {},
          "execution_count": 26
        }
      ]
    },
    {
      "cell_type": "code",
      "source": [
        "alcohol.max()"
      ],
      "metadata": {
        "colab": {
          "base_uri": "https://localhost:8080/"
        },
        "id": "lH7Y4LvXepSf",
        "outputId": "db446346-8a5b-42e5-da90-7a80ebf4891e"
      },
      "execution_count": 27,
      "outputs": [
        {
          "output_type": "execute_result",
          "data": {
            "text/plain": [
              "339.0"
            ]
          },
          "metadata": {},
          "execution_count": 27
        }
      ]
    },
    {
      "cell_type": "code",
      "source": [
        "alcohol[alcohol==alcohol.max()]"
      ],
      "metadata": {
        "colab": {
          "base_uri": "https://localhost:8080/"
        },
        "id": "L--fgjrVeqxK",
        "outputId": "5f04fdbb-41fe-4dff-94be-6cb23feb0db1"
      },
      "execution_count": 30,
      "outputs": [
        {
          "output_type": "execute_result",
          "data": {
            "text/plain": [
              "country\n",
              "Portugal    339.0\n",
              "Name: wine_servings, dtype: float64"
            ]
          },
          "metadata": {},
          "execution_count": 30
        }
      ]
    },
    {
      "cell_type": "code",
      "source": [
        "alcohol[alcohol==alcohol.max()].index"
      ],
      "metadata": {
        "colab": {
          "base_uri": "https://localhost:8080/"
        },
        "id": "DdKE_BkSextc",
        "outputId": "80d4cf7c-ee4a-4fc5-eec1-186911c1ee4c"
      },
      "execution_count": 31,
      "outputs": [
        {
          "output_type": "execute_result",
          "data": {
            "text/plain": [
              "Index(['Portugal'], dtype='object', name='country')"
            ]
          },
          "metadata": {},
          "execution_count": 31
        }
      ]
    },
    {
      "cell_type": "code",
      "source": [
        "alcohol[alcohol==alcohol.max()].index[0]"
      ],
      "metadata": {
        "colab": {
          "base_uri": "https://localhost:8080/",
          "height": 35
        },
        "id": "mTlB4xCafdgw",
        "outputId": "29a5ba9c-f4fe-4fda-f56b-98730e00f880"
      },
      "execution_count": 32,
      "outputs": [
        {
          "output_type": "execute_result",
          "data": {
            "text/plain": [
              "'Portugal'"
            ],
            "application/vnd.google.colaboratory.intrinsic+json": {
              "type": "string"
            }
          },
          "metadata": {},
          "execution_count": 32
        }
      ]
    },
    {
      "cell_type": "code",
      "source": [
        "alcohol.idxmax()"
      ],
      "metadata": {
        "colab": {
          "base_uri": "https://localhost:8080/",
          "height": 35
        },
        "id": "qih_1ZHCfkNV",
        "outputId": "626c1fe6-9a3d-4b59-f0b4-806984e220a3"
      },
      "execution_count": 33,
      "outputs": [
        {
          "output_type": "execute_result",
          "data": {
            "text/plain": [
              "'Portugal'"
            ],
            "application/vnd.google.colaboratory.intrinsic+json": {
              "type": "string"
            }
          },
          "metadata": {},
          "execution_count": 33
        }
      ]
    },
    {
      "cell_type": "code",
      "source": [
        "alcohol.idxmin()"
      ],
      "metadata": {
        "colab": {
          "base_uri": "https://localhost:8080/",
          "height": 35
        },
        "id": "x7-9PC-FfpDx",
        "outputId": "fe0431a3-1f81-4dae-cf88-2a886ad60adb"
      },
      "execution_count": 34,
      "outputs": [
        {
          "output_type": "execute_result",
          "data": {
            "text/plain": [
              "'Brunei'"
            ],
            "application/vnd.google.colaboratory.intrinsic+json": {
              "type": "string"
            }
          },
          "metadata": {},
          "execution_count": 34
        }
      ]
    },
    {
      "cell_type": "code",
      "source": [
        "alcohol[alcohol==alcohol.min()]"
      ],
      "metadata": {
        "colab": {
          "base_uri": "https://localhost:8080/"
        },
        "id": "wYQXnHfJf1OQ",
        "outputId": "79cece07-8d59-4a25-d2af-4f9fdf195693"
      },
      "execution_count": 37,
      "outputs": [
        {
          "output_type": "execute_result",
          "data": {
            "text/plain": [
              "country\n",
              "Brunei                      1.0\n",
              "Cambodia                    1.0\n",
              "Canada                      1.0\n",
              "Central African Republic    1.0\n",
              "Chad                        1.0\n",
              "Comoros                     1.0\n",
              "DR Congo                    1.0\n",
              "Egypt                       1.0\n",
              "Fiji                        1.0\n",
              "Gambia                      1.0\n",
              "Ghana                       1.0\n",
              "Guyana                      1.0\n",
              "Haiti                       1.0\n",
              "Jordan                      1.0\n",
              "Kiribati                    1.0\n",
              "Malawi                      1.0\n",
              "Mali                        1.0\n",
              "Morocco                     1.0\n",
              "Namibia                     1.0\n",
              "Nicaragua                   1.0\n",
              "Niger                       1.0\n",
              "Oman                        1.0\n",
              "Papua New Guinea            1.0\n",
              "Philippines                 1.0\n",
              "Solomon Islands             1.0\n",
              "Thailand                    1.0\n",
              "Tanzania                    1.0\n",
              "Vietnam                     1.0\n",
              "Name: wine_servings, dtype: float64"
            ]
          },
          "metadata": {},
          "execution_count": 37
        }
      ]
    },
    {
      "cell_type": "code",
      "source": [],
      "metadata": {
        "id": "5A0T_xw0gD65"
      },
      "execution_count": null,
      "outputs": []
    }
  ]
}