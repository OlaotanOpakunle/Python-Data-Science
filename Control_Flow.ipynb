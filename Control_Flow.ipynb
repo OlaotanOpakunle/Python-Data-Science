{
  "nbformat": 4,
  "nbformat_minor": 0,
  "metadata": {
    "colab": {
      "provenance": [],
      "authorship_tag": "ABX9TyMPc2ObVFrgUkvj9aYGOyiS",
      "include_colab_link": true
    },
    "kernelspec": {
      "name": "python3",
      "display_name": "Python 3"
    },
    "language_info": {
      "name": "python"
    }
  },
  "cells": [
    {
      "cell_type": "markdown",
      "metadata": {
        "id": "view-in-github",
        "colab_type": "text"
      },
      "source": [
        "<a href=\"https://colab.research.google.com/github/OlaotanOpakunle/Python-Data-Science/blob/main/Control_Flow.ipynb\" target=\"_parent\"><img src=\"https://colab.research.google.com/assets/colab-badge.svg\" alt=\"Open In Colab\"/></a>"
      ]
    },
    {
      "cell_type": "code",
      "execution_count": 2,
      "metadata": {
        "id": "49WR9f6IaZdv"
      },
      "outputs": [],
      "source": [
        "passed = []\n",
        "failed = []\n",
        "\n",
        "student_1 = {\"name\" : \"Jess\", \"exam_score\" : 72, \"attendance\" : True}\n",
        "student_2 = {\"name\" : \"Briana\", \"exam_score\" : 90, \"attendance\" : True}\n",
        "student_3 = {\"name\" : \"Jay\", \"exam_score\" : 64, \"attendance\" : False}"
      ]
    },
    {
      "cell_type": "code",
      "source": [
        "if student_1.get(\"exam_score\") > 70:\n",
        "  passed.append(student_1)"
      ],
      "metadata": {
        "id": "u0_Esl5ObdWN"
      },
      "execution_count": 3,
      "outputs": []
    },
    {
      "cell_type": "code",
      "source": [
        "passed"
      ],
      "metadata": {
        "colab": {
          "base_uri": "https://localhost:8080/"
        },
        "id": "Tc5aNeyzc3T8",
        "outputId": "f3cf04d8-cab0-4fbf-9dc5-20001834b4a5"
      },
      "execution_count": 5,
      "outputs": [
        {
          "output_type": "execute_result",
          "data": {
            "text/plain": [
              "[{'name': 'Jess', 'exam_score': 72, 'attendance': True}]"
            ]
          },
          "metadata": {},
          "execution_count": 5
        }
      ]
    },
    {
      "cell_type": "code",
      "source": [
        "if student_2.get(\"exam_score\") > 70:\n",
        "  passed.append(student_2)\n",
        "else:\n",
        "  failed.append(student_2)"
      ],
      "metadata": {
        "id": "xS3zuA4Cc4Xy"
      },
      "execution_count": 8,
      "outputs": []
    },
    {
      "cell_type": "code",
      "source": [
        "passed"
      ],
      "metadata": {
        "colab": {
          "base_uri": "https://localhost:8080/"
        },
        "id": "ESUKDSJFZ0Ez",
        "outputId": "92d38a69-0a59-4bc6-def1-8c91be0d2158"
      },
      "execution_count": 10,
      "outputs": [
        {
          "output_type": "execute_result",
          "data": {
            "text/plain": [
              "[{'name': 'Jess', 'exam_score': 72, 'attendance': True},\n",
              " {'name': 'Briana', 'exam_score': 90, 'attendance': True},\n",
              " {'name': 'Briana', 'exam_score': 90, 'attendance': True}]"
            ]
          },
          "metadata": {},
          "execution_count": 10
        }
      ]
    },
    {
      "cell_type": "code",
      "source": [
        "list(passed)"
      ],
      "metadata": {
        "colab": {
          "base_uri": "https://localhost:8080/"
        },
        "id": "qBUBNEkDaSPj",
        "outputId": "fe970fe6-8e9c-4797-9e20-02bf4f1e7e0b"
      },
      "execution_count": 12,
      "outputs": [
        {
          "output_type": "execute_result",
          "data": {
            "text/plain": [
              "[{'name': 'Jess', 'exam_score': 72, 'attendance': True},\n",
              " {'name': 'Briana', 'exam_score': 90, 'attendance': True},\n",
              " {'name': 'Briana', 'exam_score': 90, 'attendance': True}]"
            ]
          },
          "metadata": {},
          "execution_count": 12
        }
      ]
    },
    {
      "cell_type": "code",
      "source": [
        "if student_3.get(\"exam_score\") > 70:\n",
        "  passed.append(student_3)\n",
        "elif student_3.get(\"exam_score\") > 65 or student_3.get(\"attendance\") == True:\n",
        "  passed.append(student_3)\n",
        "else:\n",
        "  failed.append(student_3)"
      ],
      "metadata": {
        "id": "gynFMV8Cah0b"
      },
      "execution_count": 15,
      "outputs": []
    },
    {
      "cell_type": "code",
      "source": [
        "passed"
      ],
      "metadata": {
        "colab": {
          "base_uri": "https://localhost:8080/"
        },
        "id": "seCAF_s_bYIr",
        "outputId": "375f4320-8561-4c1f-e025-a3911d6358f6"
      },
      "execution_count": 16,
      "outputs": [
        {
          "output_type": "execute_result",
          "data": {
            "text/plain": [
              "[{'name': 'Jess', 'exam_score': 72, 'attendance': True},\n",
              " {'name': 'Briana', 'exam_score': 90, 'attendance': True},\n",
              " {'name': 'Briana', 'exam_score': 90, 'attendance': True}]"
            ]
          },
          "metadata": {},
          "execution_count": 16
        }
      ]
    },
    {
      "cell_type": "code",
      "source": [
        "failed"
      ],
      "metadata": {
        "colab": {
          "base_uri": "https://localhost:8080/"
        },
        "id": "ZXDr-IfocK6T",
        "outputId": "3ab832bd-6949-46bc-969e-843742b63fae"
      },
      "execution_count": 17,
      "outputs": [
        {
          "output_type": "execute_result",
          "data": {
            "text/plain": [
              "[{'name': 'Jay', 'exam_score': 64, 'attendance': False}]"
            ]
          },
          "metadata": {},
          "execution_count": 17
        }
      ]
    },
    {
      "cell_type": "code",
      "source": [
        "tuple(passed)"
      ],
      "metadata": {
        "colab": {
          "base_uri": "https://localhost:8080/"
        },
        "id": "78w2qY5vcMaS",
        "outputId": "6797a638-5ae5-40a1-fe36-68530481f138"
      },
      "execution_count": 18,
      "outputs": [
        {
          "output_type": "execute_result",
          "data": {
            "text/plain": [
              "({'name': 'Jess', 'exam_score': 72, 'attendance': True},\n",
              " {'name': 'Briana', 'exam_score': 90, 'attendance': True},\n",
              " {'name': 'Briana', 'exam_score': 90, 'attendance': True})"
            ]
          },
          "metadata": {},
          "execution_count": 18
        }
      ]
    },
    {
      "cell_type": "code",
      "source": [
        "list(passed)"
      ],
      "metadata": {
        "colab": {
          "base_uri": "https://localhost:8080/"
        },
        "id": "YFXAPRLIczFw",
        "outputId": "62344d20-7063-478a-ff4c-23056eefc276"
      },
      "execution_count": 19,
      "outputs": [
        {
          "output_type": "execute_result",
          "data": {
            "text/plain": [
              "[{'name': 'Jess', 'exam_score': 72, 'attendance': True},\n",
              " {'name': 'Briana', 'exam_score': 90, 'attendance': True},\n",
              " {'name': 'Briana', 'exam_score': 90, 'attendance': True}]"
            ]
          },
          "metadata": {},
          "execution_count": 19
        }
      ]
    },
    {
      "cell_type": "code",
      "source": [
        "passed"
      ],
      "metadata": {
        "colab": {
          "base_uri": "https://localhost:8080/"
        },
        "id": "8az7RoTgc1h2",
        "outputId": "8bb4e5ee-094d-44ea-cffd-32b8d322d666"
      },
      "execution_count": 23,
      "outputs": [
        {
          "output_type": "execute_result",
          "data": {
            "text/plain": [
              "[{'name': 'Jess', 'exam_score': 72, 'attendance': True},\n",
              " {'name': 'Briana', 'exam_score': 90, 'attendance': True},\n",
              " {'name': 'Briana', 'exam_score': 90, 'attendance': True}]"
            ]
          },
          "metadata": {},
          "execution_count": 23
        }
      ]
    },
    {
      "cell_type": "code",
      "source": [
        "passed"
      ],
      "metadata": {
        "colab": {
          "base_uri": "https://localhost:8080/"
        },
        "id": "WMdtCACZc306",
        "outputId": "6f702486-db0e-4973-9275-a4d821ceea61"
      },
      "execution_count": 26,
      "outputs": [
        {
          "output_type": "execute_result",
          "data": {
            "text/plain": [
              "[{'name': 'Jess', 'exam_score': 72, 'attendance': True},\n",
              " {'name': 'Briana', 'exam_score': 90, 'attendance': True},\n",
              " {'name': 'Briana', 'exam_score': 90, 'attendance': True}]"
            ]
          },
          "metadata": {},
          "execution_count": 26
        }
      ]
    },
    {
      "cell_type": "code",
      "source": [
        "failed"
      ],
      "metadata": {
        "colab": {
          "base_uri": "https://localhost:8080/"
        },
        "id": "8ankMIamdYhY",
        "outputId": "e03b9e82-43d1-4031-8405-0ee2382c34d1"
      },
      "execution_count": 27,
      "outputs": [
        {
          "output_type": "execute_result",
          "data": {
            "text/plain": [
              "[{'name': 'Jay', 'exam_score': 64, 'attendance': False}]"
            ]
          },
          "metadata": {},
          "execution_count": 27
        }
      ]
    },
    {
      "cell_type": "code",
      "source": [],
      "metadata": {
        "id": "CRDFZZgUG6tR"
      },
      "execution_count": null,
      "outputs": []
    }
  ]
}