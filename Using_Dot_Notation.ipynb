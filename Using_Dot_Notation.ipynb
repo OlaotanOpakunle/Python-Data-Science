{
  "nbformat": 4,
  "nbformat_minor": 0,
  "metadata": {
    "colab": {
      "provenance": [],
      "authorship_tag": "ABX9TyOgBvGMBip2hu5jqqDDEcjl",
      "include_colab_link": true
    },
    "kernelspec": {
      "name": "python3",
      "display_name": "Python 3"
    },
    "language_info": {
      "name": "python"
    }
  },
  "cells": [
    {
      "cell_type": "markdown",
      "metadata": {
        "id": "view-in-github",
        "colab_type": "text"
      },
      "source": [
        "<a href=\"https://colab.research.google.com/github/OlaotanOpakunle/Python-Data-Science/blob/main/Using_Dot_Notation.ipynb\" target=\"_parent\"><img src=\"https://colab.research.google.com/assets/colab-badge.svg\" alt=\"Open In Colab\"/></a>"
      ]
    },
    {
      "cell_type": "code",
      "execution_count": 1,
      "metadata": {
        "id": "mi4oKJaoTrbZ"
      },
      "outputs": [],
      "source": [
        "import pandas as pd\n",
        "from string import ascii_uppercase\n",
        "from string import ascii_lowercase"
      ]
    },
    {
      "cell_type": "code",
      "source": [
        "labelledAlpha = pd.Series(data = list(ascii_lowercase), index = map(lambda x: \"label_\" + x, list(ascii_uppercase)))"
      ],
      "metadata": {
        "id": "kV9pnmxqUK71"
      },
      "execution_count": 2,
      "outputs": []
    },
    {
      "cell_type": "code",
      "source": [
        "labelledAlpha[\"label_V\"]"
      ],
      "metadata": {
        "colab": {
          "base_uri": "https://localhost:8080/",
          "height": 35
        },
        "id": "lvD_y4LWUPj_",
        "outputId": "02bdfbb9-b4d9-4ff7-e4c0-5fd44854094d"
      },
      "execution_count": 3,
      "outputs": [
        {
          "output_type": "execute_result",
          "data": {
            "text/plain": [
              "'v'"
            ],
            "application/vnd.google.colaboratory.intrinsic+json": {
              "type": "string"
            }
          },
          "metadata": {},
          "execution_count": 3
        }
      ]
    },
    {
      "cell_type": "code",
      "source": [
        "labelledAlpha.label_V"
      ],
      "metadata": {
        "colab": {
          "base_uri": "https://localhost:8080/",
          "height": 35
        },
        "id": "atJ_h6lfUV74",
        "outputId": "0eec2936-2cc1-40a7-e5e8-b5e842645367"
      },
      "execution_count": 4,
      "outputs": [
        {
          "output_type": "execute_result",
          "data": {
            "text/plain": [
              "'v'"
            ],
            "application/vnd.google.colaboratory.intrinsic+json": {
              "type": "string"
            }
          },
          "metadata": {},
          "execution_count": 4
        }
      ]
    },
    {
      "cell_type": "code",
      "source": [
        "# Has limitations"
      ],
      "metadata": {
        "id": "miap-BwaU7WX"
      },
      "execution_count": 5,
      "outputs": []
    },
    {
      "cell_type": "code",
      "source": [
        "labelledAlpha[\"label_V\" : \"label_X\"]"
      ],
      "metadata": {
        "colab": {
          "base_uri": "https://localhost:8080/"
        },
        "id": "OLIjRSeoVCls",
        "outputId": "7b95b4a6-5022-4aa5-832b-1e95d8e312be"
      },
      "execution_count": 6,
      "outputs": [
        {
          "output_type": "execute_result",
          "data": {
            "text/plain": [
              "label_V    v\n",
              "label_W    w\n",
              "label_X    x\n",
              "dtype: object"
            ]
          },
          "metadata": {},
          "execution_count": 6
        }
      ]
    },
    {
      "cell_type": "code",
      "source": [
        "# Error labelledAlpha.label_V : label_X"
      ],
      "metadata": {
        "id": "eos_N8avVIJE"
      },
      "execution_count": 8,
      "outputs": []
    },
    {
      "cell_type": "code",
      "source": [],
      "metadata": {
        "id": "rA_D9bk_VOwB"
      },
      "execution_count": null,
      "outputs": []
    }
  ]
}