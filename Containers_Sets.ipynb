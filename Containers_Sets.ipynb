{
  "nbformat": 4,
  "nbformat_minor": 0,
  "metadata": {
    "colab": {
      "provenance": [],
      "authorship_tag": "ABX9TyMESXJwNjwhiupv5+LDP+2C",
      "include_colab_link": true
    },
    "kernelspec": {
      "name": "python3",
      "display_name": "Python 3"
    },
    "language_info": {
      "name": "python"
    }
  },
  "cells": [
    {
      "cell_type": "markdown",
      "metadata": {
        "id": "view-in-github",
        "colab_type": "text"
      },
      "source": [
        "<a href=\"https://colab.research.google.com/github/OlaotanOpakunle/Python-Data-Science/blob/main/Containers_Sets.ipynb\" target=\"_parent\"><img src=\"https://colab.research.google.com/assets/colab-badge.svg\" alt=\"Open In Colab\"/></a>"
      ]
    },
    {
      "cell_type": "code",
      "execution_count": 1,
      "metadata": {
        "id": "9jrWAfKevIYm"
      },
      "outputs": [],
      "source": [
        "degrees = {\"BSc\", \"MA\", \"PhD\"}"
      ]
    },
    {
      "cell_type": "code",
      "source": [
        "type(degrees)"
      ],
      "metadata": {
        "colab": {
          "base_uri": "https://localhost:8080/"
        },
        "id": "UjGjnIwKvs-A",
        "outputId": "676fef70-c884-4ccf-d5c6-6d26b2cb0776"
      },
      "execution_count": 2,
      "outputs": [
        {
          "output_type": "execute_result",
          "data": {
            "text/plain": [
              "set"
            ]
          },
          "metadata": {},
          "execution_count": 2
        }
      ]
    },
    {
      "cell_type": "code",
      "source": [
        "degrees2 = {\"BSc\", \"MA\", \"PhD\", \"MA\"}"
      ],
      "metadata": {
        "id": "-Zo1ZdQ5vvUG"
      },
      "execution_count": 3,
      "outputs": []
    },
    {
      "cell_type": "code",
      "source": [
        "type(degrees2)"
      ],
      "metadata": {
        "colab": {
          "base_uri": "https://localhost:8080/"
        },
        "id": "D2rhvO_UwT66",
        "outputId": "4c6b7d96-6eed-48ce-fbab-ba5830de06f9"
      },
      "execution_count": 4,
      "outputs": [
        {
          "output_type": "execute_result",
          "data": {
            "text/plain": [
              "set"
            ]
          },
          "metadata": {},
          "execution_count": 4
        }
      ]
    },
    {
      "cell_type": "code",
      "source": [
        "degrees2"
      ],
      "metadata": {
        "colab": {
          "base_uri": "https://localhost:8080/"
        },
        "id": "s2MzRQjOwWtx",
        "outputId": "bdcd270a-549a-44ce-9140-7cc2604f2ca1"
      },
      "execution_count": 5,
      "outputs": [
        {
          "output_type": "execute_result",
          "data": {
            "text/plain": [
              "{'BSc', 'MA', 'PhD'}"
            ]
          },
          "metadata": {},
          "execution_count": 5
        }
      ]
    },
    {
      "cell_type": "code",
      "source": [
        "degrees.add(\"BA\")"
      ],
      "metadata": {
        "id": "6bdWSqGpwX-2"
      },
      "execution_count": 6,
      "outputs": []
    },
    {
      "cell_type": "code",
      "source": [
        "degrees"
      ],
      "metadata": {
        "colab": {
          "base_uri": "https://localhost:8080/"
        },
        "id": "myRtfzZIwqsP",
        "outputId": "deb0cc2a-b4db-4760-f2f6-83ec52b3cff1"
      },
      "execution_count": 7,
      "outputs": [
        {
          "output_type": "execute_result",
          "data": {
            "text/plain": [
              "{'BA', 'BSc', 'MA', 'PhD'}"
            ]
          },
          "metadata": {},
          "execution_count": 7
        }
      ]
    },
    {
      "cell_type": "code",
      "source": [
        "degrees.discard(\"MA\")"
      ],
      "metadata": {
        "id": "4IMBc55Bwsip"
      },
      "execution_count": 8,
      "outputs": []
    },
    {
      "cell_type": "code",
      "source": [
        "degrees"
      ],
      "metadata": {
        "colab": {
          "base_uri": "https://localhost:8080/"
        },
        "id": "TOkMdKRgwx7g",
        "outputId": "0d6de040-93ef-402e-ef5f-56951e398955"
      },
      "execution_count": 9,
      "outputs": [
        {
          "output_type": "execute_result",
          "data": {
            "text/plain": [
              "{'BA', 'BSc', 'PhD'}"
            ]
          },
          "metadata": {},
          "execution_count": 9
        }
      ]
    },
    {
      "cell_type": "code",
      "source": [
        "degrees.intersection(degrees2)"
      ],
      "metadata": {
        "colab": {
          "base_uri": "https://localhost:8080/"
        },
        "id": "nKE9m2vlwzDR",
        "outputId": "fe007701-701f-4c81-cf78-7c3a90636bf2"
      },
      "execution_count": 10,
      "outputs": [
        {
          "output_type": "execute_result",
          "data": {
            "text/plain": [
              "{'BSc', 'PhD'}"
            ]
          },
          "metadata": {},
          "execution_count": 10
        }
      ]
    },
    {
      "cell_type": "code",
      "source": [
        "degrees.union(degrees2)"
      ],
      "metadata": {
        "colab": {
          "base_uri": "https://localhost:8080/"
        },
        "id": "D9CZ9GBNCS3b",
        "outputId": "b5635790-24e7-47cb-e8fd-fe15199f5ed7"
      },
      "execution_count": 11,
      "outputs": [
        {
          "output_type": "execute_result",
          "data": {
            "text/plain": [
              "{'BA', 'BSc', 'MA', 'PhD'}"
            ]
          },
          "metadata": {},
          "execution_count": 11
        }
      ]
    },
    {
      "cell_type": "code",
      "source": [
        "degrees.difference(degrees2)"
      ],
      "metadata": {
        "colab": {
          "base_uri": "https://localhost:8080/"
        },
        "id": "GpMLbNjbCh7g",
        "outputId": "d70d8945-3030-445b-fc50-97a5759db745"
      },
      "execution_count": 12,
      "outputs": [
        {
          "output_type": "execute_result",
          "data": {
            "text/plain": [
              "{'BA'}"
            ]
          },
          "metadata": {},
          "execution_count": 12
        }
      ]
    },
    {
      "cell_type": "code",
      "source": [
        "degrees2.difference(degrees)"
      ],
      "metadata": {
        "colab": {
          "base_uri": "https://localhost:8080/"
        },
        "id": "vtcNXLMWC8Qs",
        "outputId": "dad5495a-9389-4762-d3e7-89102284fb6b"
      },
      "execution_count": 13,
      "outputs": [
        {
          "output_type": "execute_result",
          "data": {
            "text/plain": [
              "{'MA'}"
            ]
          },
          "metadata": {},
          "execution_count": 13
        }
      ]
    },
    {
      "cell_type": "code",
      "source": [
        "#task: remove all the unique elements from a list of degrees"
      ],
      "metadata": {
        "id": "aaNusUX0DFHy"
      },
      "execution_count": 14,
      "outputs": []
    },
    {
      "cell_type": "code",
      "source": [
        "highest_degree_earned = [\"BA\", \"BA\", \"BSc\", \"MA\", \"MA\", \"MA\", \"PhD\", \"High School GED\", \"Some College\", \"BA\"]"
      ],
      "metadata": {
        "id": "2yw_BvnCDg1h"
      },
      "execution_count": 15,
      "outputs": []
    },
    {
      "cell_type": "code",
      "source": [
        "set(highest_degree_earned)"
      ],
      "metadata": {
        "colab": {
          "base_uri": "https://localhost:8080/"
        },
        "id": "Gb2q_HPDB-Tk",
        "outputId": "33715974-0138-4c8b-d182-751cb0764b25"
      },
      "execution_count": 16,
      "outputs": [
        {
          "output_type": "execute_result",
          "data": {
            "text/plain": [
              "{'BA', 'BSc', 'High School GED', 'MA', 'PhD', 'Some College'}"
            ]
          },
          "metadata": {},
          "execution_count": 16
        }
      ]
    },
    {
      "cell_type": "code",
      "source": [
        "highest_degree_earned_unique = list(set(highest_degree_earned))"
      ],
      "metadata": {
        "id": "efAzNvG1CMpg"
      },
      "execution_count": 17,
      "outputs": []
    },
    {
      "cell_type": "code",
      "source": [
        "highest_degree_earned_unique"
      ],
      "metadata": {
        "colab": {
          "base_uri": "https://localhost:8080/"
        },
        "id": "QqnB8tTJCkRA",
        "outputId": "f7c06731-0962-473b-8f14-27e923d2be47"
      },
      "execution_count": 18,
      "outputs": [
        {
          "output_type": "execute_result",
          "data": {
            "text/plain": [
              "['BA', 'Some College', 'High School GED', 'BSc', 'MA', 'PhD']"
            ]
          },
          "metadata": {},
          "execution_count": 18
        }
      ]
    },
    {
      "cell_type": "code",
      "source": [],
      "metadata": {
        "id": "jVNLaj8_Cmkm"
      },
      "execution_count": null,
      "outputs": []
    }
  ]
}