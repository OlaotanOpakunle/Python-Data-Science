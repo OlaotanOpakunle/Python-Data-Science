{
  "nbformat": 4,
  "nbformat_minor": 0,
  "metadata": {
    "colab": {
      "provenance": [],
      "authorship_tag": "ABX9TyPVYVOOPr9Wr5jftdNIfaXE",
      "include_colab_link": true
    },
    "kernelspec": {
      "name": "python3",
      "display_name": "Python 3"
    },
    "language_info": {
      "name": "python"
    }
  },
  "cells": [
    {
      "cell_type": "markdown",
      "metadata": {
        "id": "view-in-github",
        "colab_type": "text"
      },
      "source": [
        "<a href=\"https://colab.research.google.com/github/OlaotanOpakunle/Python-Data-Science/blob/main/Series_Iteration.ipynb\" target=\"_parent\"><img src=\"https://colab.research.google.com/assets/colab-badge.svg\" alt=\"Open In Colab\"/></a>"
      ]
    },
    {
      "cell_type": "code",
      "execution_count": 1,
      "metadata": {
        "id": "H7q4e0YSaXAM"
      },
      "outputs": [],
      "source": [
        "import pandas as pd\n",
        "import numpy as np"
      ]
    },
    {
      "cell_type": "code",
      "source": [
        "alcohol = pd.read_csv('https://andybek.com/pandas-drinks', usecols=['country', 'wine_servings'], index_col='country', squeeze=True)"
      ],
      "metadata": {
        "id": "r3r3sNwla-Aw"
      },
      "execution_count": 2,
      "outputs": []
    },
    {
      "cell_type": "code",
      "source": [
        "alcohol.head()"
      ],
      "metadata": {
        "colab": {
          "base_uri": "https://localhost:8080/"
        },
        "id": "lX4w7QC_bUrA",
        "outputId": "d587efb1-9bf7-49ff-f2b5-fb17bd775af3"
      },
      "execution_count": 3,
      "outputs": [
        {
          "output_type": "execute_result",
          "data": {
            "text/plain": [
              "country\n",
              "Afghanistan      NaN\n",
              "Albania         54.0\n",
              "Algeria         14.0\n",
              "Andorra        312.0\n",
              "Angola          45.0\n",
              "Name: wine_servings, dtype: float64"
            ]
          },
          "metadata": {},
          "execution_count": 3
        }
      ]
    },
    {
      "cell_type": "code",
      "source": [
        "alcohol.describe()"
      ],
      "metadata": {
        "colab": {
          "base_uri": "https://localhost:8080/"
        },
        "id": "Y2ZFI69nbW3-",
        "outputId": "0a9fe2dc-d276-4953-cfcb-4b66e6c55522"
      },
      "execution_count": 5,
      "outputs": [
        {
          "output_type": "execute_result",
          "data": {
            "text/plain": [
              "count    162.000000\n",
              "mean      50.746914\n",
              "std       76.134917\n",
              "min        1.000000\n",
              "25%        3.000000\n",
              "50%       11.500000\n",
              "75%       61.250000\n",
              "max      339.000000\n",
              "Name: wine_servings, dtype: float64"
            ]
          },
          "metadata": {},
          "execution_count": 5
        }
      ]
    },
    {
      "cell_type": "code",
      "source": [
        "alcohol.diff().head()"
      ],
      "metadata": {
        "colab": {
          "base_uri": "https://localhost:8080/"
        },
        "id": "3XLkQkbubZy3",
        "outputId": "c9ed3a08-732d-42cf-80fe-ee6e2ef5dae3"
      },
      "execution_count": 6,
      "outputs": [
        {
          "output_type": "execute_result",
          "data": {
            "text/plain": [
              "country\n",
              "Afghanistan      NaN\n",
              "Albania          NaN\n",
              "Algeria        -40.0\n",
              "Andorra        298.0\n",
              "Angola        -267.0\n",
              "Name: wine_servings, dtype: float64"
            ]
          },
          "metadata": {},
          "execution_count": 6
        }
      ]
    },
    {
      "cell_type": "code",
      "source": [
        "alcohol.diff(periods=2).head()"
      ],
      "metadata": {
        "colab": {
          "base_uri": "https://localhost:8080/"
        },
        "id": "A4y1llVibkPe",
        "outputId": "1a34fad8-cfa2-46f0-d46f-8d93af07ea10"
      },
      "execution_count": 7,
      "outputs": [
        {
          "output_type": "execute_result",
          "data": {
            "text/plain": [
              "country\n",
              "Afghanistan      NaN\n",
              "Albania          NaN\n",
              "Algeria          NaN\n",
              "Andorra        258.0\n",
              "Angola          31.0\n",
              "Name: wine_servings, dtype: float64"
            ]
          },
          "metadata": {},
          "execution_count": 7
        }
      ]
    },
    {
      "cell_type": "code",
      "source": [
        "miniAlc = alcohol[:10]"
      ],
      "metadata": {
        "id": "YtnaZOHeb6nu"
      },
      "execution_count": 8,
      "outputs": []
    },
    {
      "cell_type": "code",
      "source": [
        "miniAlc"
      ],
      "metadata": {
        "colab": {
          "base_uri": "https://localhost:8080/"
        },
        "id": "ftNWxZxccxd-",
        "outputId": "5dc7c82a-b43f-4806-8648-2089232615f9"
      },
      "execution_count": 9,
      "outputs": [
        {
          "output_type": "execute_result",
          "data": {
            "text/plain": [
              "country\n",
              "Afghanistan            NaN\n",
              "Albania               54.0\n",
              "Algeria               14.0\n",
              "Andorra              312.0\n",
              "Angola                45.0\n",
              "Antigua & Barbuda     45.0\n",
              "Argentina            221.0\n",
              "Armenia               11.0\n",
              "Australia            212.0\n",
              "Austria              191.0\n",
              "Name: wine_servings, dtype: float64"
            ]
          },
          "metadata": {},
          "execution_count": 9
        }
      ]
    },
    {
      "cell_type": "code",
      "source": [
        "for i in miniAlc:\n",
        "  print(i)"
      ],
      "metadata": {
        "colab": {
          "base_uri": "https://localhost:8080/"
        },
        "id": "UAv9JmtIcysL",
        "outputId": "45b9ea68-c917-48c4-9a60-5a3f1ef7facd"
      },
      "execution_count": 10,
      "outputs": [
        {
          "output_type": "stream",
          "name": "stdout",
          "text": [
            "nan\n",
            "54.0\n",
            "14.0\n",
            "312.0\n",
            "45.0\n",
            "45.0\n",
            "221.0\n",
            "11.0\n",
            "212.0\n",
            "191.0\n"
          ]
        }
      ]
    },
    {
      "cell_type": "code",
      "source": [
        "for i in miniAlc.index:\n",
        "  print(i)"
      ],
      "metadata": {
        "colab": {
          "base_uri": "https://localhost:8080/"
        },
        "id": "5qSC0VaVc9CE",
        "outputId": "3b7d323d-5a32-4a8e-a69d-abd2108623fd"
      },
      "execution_count": 11,
      "outputs": [
        {
          "output_type": "stream",
          "name": "stdout",
          "text": [
            "Afghanistan\n",
            "Albania\n",
            "Algeria\n",
            "Andorra\n",
            "Angola\n",
            "Antigua & Barbuda\n",
            "Argentina\n",
            "Armenia\n",
            "Australia\n",
            "Austria\n"
          ]
        }
      ]
    },
    {
      "cell_type": "code",
      "source": [
        "for i in miniAlc.index:\n",
        "  print(i, miniAlc[i])"
      ],
      "metadata": {
        "colab": {
          "base_uri": "https://localhost:8080/"
        },
        "id": "OAOWZoc5dKU_",
        "outputId": "e60addd3-2490-48e6-fce0-da616d96d9a5"
      },
      "execution_count": 13,
      "outputs": [
        {
          "output_type": "stream",
          "name": "stdout",
          "text": [
            "Afghanistan nan\n",
            "Albania 54.0\n",
            "Algeria 14.0\n",
            "Andorra 312.0\n",
            "Angola 45.0\n",
            "Antigua & Barbuda 45.0\n",
            "Argentina 221.0\n",
            "Armenia 11.0\n",
            "Australia 212.0\n",
            "Austria 191.0\n"
          ]
        }
      ]
    },
    {
      "cell_type": "code",
      "source": [
        "for i in miniAlc.items():\n",
        "  print(i)"
      ],
      "metadata": {
        "colab": {
          "base_uri": "https://localhost:8080/"
        },
        "id": "u8I-QONddU6Z",
        "outputId": "2a506194-5d39-4302-ad14-4b2532189c81"
      },
      "execution_count": 14,
      "outputs": [
        {
          "output_type": "stream",
          "name": "stdout",
          "text": [
            "('Afghanistan', nan)\n",
            "('Albania', 54.0)\n",
            "('Algeria', 14.0)\n",
            "('Andorra', 312.0)\n",
            "('Angola', 45.0)\n",
            "('Antigua & Barbuda', 45.0)\n",
            "('Argentina', 221.0)\n",
            "('Armenia', 11.0)\n",
            "('Australia', 212.0)\n",
            "('Austria', 191.0)\n"
          ]
        }
      ]
    },
    {
      "cell_type": "code",
      "source": [],
      "metadata": {
        "id": "VVkC08nidvE6"
      },
      "execution_count": null,
      "outputs": []
    }
  ]
}