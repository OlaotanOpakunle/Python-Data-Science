{
  "nbformat": 4,
  "nbformat_minor": 0,
  "metadata": {
    "colab": {
      "provenance": [],
      "authorship_tag": "ABX9TyNCEiY/xcbL8cVczdn8p7KA",
      "include_colab_link": true
    },
    "kernelspec": {
      "name": "python3",
      "display_name": "Python 3"
    },
    "language_info": {
      "name": "python"
    }
  },
  "cells": [
    {
      "cell_type": "markdown",
      "metadata": {
        "id": "view-in-github",
        "colab_type": "text"
      },
      "source": [
        "<a href=\"https://colab.research.google.com/github/OlaotanOpakunle/Python-Data-Science/blob/main/Numpy_for_NAs.ipynb\" target=\"_parent\"><img src=\"https://colab.research.google.com/assets/colab-badge.svg\" alt=\"Open In Colab\"/></a>"
      ]
    },
    {
      "cell_type": "code",
      "execution_count": 2,
      "metadata": {
        "id": "KN0SbsGT-uIt"
      },
      "outputs": [],
      "source": [
        "import pandas as pd\n",
        "import numpy as np\n"
      ]
    },
    {
      "cell_type": "code",
      "source": [
        "alcohol = pd.read_csv('https://andybek.com/pandas-drinks', usecols=[\"country\", \"wine_servings\"], index_col=\"country\", squeeze=True)"
      ],
      "metadata": {
        "id": "VcUfLH78-zal"
      },
      "execution_count": 3,
      "outputs": []
    },
    {
      "cell_type": "code",
      "source": [
        "alcohol.size"
      ],
      "metadata": {
        "colab": {
          "base_uri": "https://localhost:8080/"
        },
        "id": "7RD4kHj4_G0a",
        "outputId": "f61b5174-5d21-4ce6-97c6-8d04fd141e2d"
      },
      "execution_count": 4,
      "outputs": [
        {
          "output_type": "execute_result",
          "data": {
            "text/plain": [
              "193"
            ]
          },
          "metadata": {},
          "execution_count": 4
        }
      ]
    },
    {
      "cell_type": "code",
      "source": [
        "alcohol.count()"
      ],
      "metadata": {
        "colab": {
          "base_uri": "https://localhost:8080/"
        },
        "id": "xZqAIpcd_JY_",
        "outputId": "977af9e8-a8d8-46ba-ce29-496b2eb29f04"
      },
      "execution_count": 5,
      "outputs": [
        {
          "output_type": "execute_result",
          "data": {
            "text/plain": [
              "162"
            ]
          },
          "metadata": {},
          "execution_count": 5
        }
      ]
    },
    {
      "cell_type": "code",
      "source": [
        "alcohol.isnull()"
      ],
      "metadata": {
        "colab": {
          "base_uri": "https://localhost:8080/"
        },
        "id": "su4aJ6ts_LTV",
        "outputId": "fa8c8f7e-65cb-4d6b-8128-a1aadd001663"
      },
      "execution_count": 6,
      "outputs": [
        {
          "output_type": "execute_result",
          "data": {
            "text/plain": [
              "country\n",
              "Afghanistan     True\n",
              "Albania        False\n",
              "Algeria        False\n",
              "Andorra        False\n",
              "Angola         False\n",
              "               ...  \n",
              "Venezuela      False\n",
              "Vietnam        False\n",
              "Yemen           True\n",
              "Zambia         False\n",
              "Zimbabwe       False\n",
              "Name: wine_servings, Length: 193, dtype: bool"
            ]
          },
          "metadata": {},
          "execution_count": 6
        }
      ]
    },
    {
      "cell_type": "code",
      "source": [
        "alcohol.hasnans"
      ],
      "metadata": {
        "colab": {
          "base_uri": "https://localhost:8080/"
        },
        "id": "4mcIjLZ4_Osm",
        "outputId": "ba4e4e4e-6fb6-487f-a278-892dea43ad3c"
      },
      "execution_count": 7,
      "outputs": [
        {
          "output_type": "execute_result",
          "data": {
            "text/plain": [
              "True"
            ]
          },
          "metadata": {},
          "execution_count": 7
        }
      ]
    },
    {
      "cell_type": "code",
      "source": [
        "alcohol[alcohol.isnull()].index"
      ],
      "metadata": {
        "colab": {
          "base_uri": "https://localhost:8080/"
        },
        "id": "f2oaqkHS_WTW",
        "outputId": "3f1af885-67c7-49fc-d45c-778d8f9073c4"
      },
      "execution_count": 9,
      "outputs": [
        {
          "output_type": "execute_result",
          "data": {
            "text/plain": [
              "Index(['Afghanistan', 'Bangladesh', 'Bhutan', 'Burundi', 'North Korea',\n",
              "       'Eritrea', 'Ethiopia', 'India', 'Indonesia', 'Iran', 'Iraq', 'Kuwait',\n",
              "       'Lesotho', 'Libya', 'Malaysia', 'Maldives', 'Marshall Islands',\n",
              "       'Mauritania', 'Monaco', 'Myanmar', 'Nepal', 'Pakistan', 'Rwanda',\n",
              "       'San Marino', 'Saudi Arabia', 'Somalia', 'Sri Lanka', 'Sudan',\n",
              "       'Tajikistan', 'Uganda', 'Yemen'],\n",
              "      dtype='object', name='country')"
            ]
          },
          "metadata": {},
          "execution_count": 9
        }
      ]
    },
    {
      "cell_type": "code",
      "source": [
        "list(alcohol[alcohol.isnull()].index)"
      ],
      "metadata": {
        "colab": {
          "base_uri": "https://localhost:8080/"
        },
        "id": "Qd_OXjE9_a0J",
        "outputId": "6609d69c-c89d-4653-d550-64e47efc8399"
      },
      "execution_count": 10,
      "outputs": [
        {
          "output_type": "execute_result",
          "data": {
            "text/plain": [
              "['Afghanistan',\n",
              " 'Bangladesh',\n",
              " 'Bhutan',\n",
              " 'Burundi',\n",
              " 'North Korea',\n",
              " 'Eritrea',\n",
              " 'Ethiopia',\n",
              " 'India',\n",
              " 'Indonesia',\n",
              " 'Iran',\n",
              " 'Iraq',\n",
              " 'Kuwait',\n",
              " 'Lesotho',\n",
              " 'Libya',\n",
              " 'Malaysia',\n",
              " 'Maldives',\n",
              " 'Marshall Islands',\n",
              " 'Mauritania',\n",
              " 'Monaco',\n",
              " 'Myanmar',\n",
              " 'Nepal',\n",
              " 'Pakistan',\n",
              " 'Rwanda',\n",
              " 'San Marino',\n",
              " 'Saudi Arabia',\n",
              " 'Somalia',\n",
              " 'Sri Lanka',\n",
              " 'Sudan',\n",
              " 'Tajikistan',\n",
              " 'Uganda',\n",
              " 'Yemen']"
            ]
          },
          "metadata": {},
          "execution_count": 10
        }
      ]
    },
    {
      "cell_type": "code",
      "source": [
        "len(list(alcohol[alcohol.isnull()].index))"
      ],
      "metadata": {
        "colab": {
          "base_uri": "https://localhost:8080/"
        },
        "id": "JC_js7mj_jJV",
        "outputId": "d4097541-3100-4596-e1be-9d7acfcc845b"
      },
      "execution_count": 12,
      "outputs": [
        {
          "output_type": "execute_result",
          "data": {
            "text/plain": [
              "31"
            ]
          },
          "metadata": {},
          "execution_count": 12
        }
      ]
    },
    {
      "cell_type": "code",
      "source": [
        "alcohol.isnull().sum()"
      ],
      "metadata": {
        "colab": {
          "base_uri": "https://localhost:8080/"
        },
        "id": "as5YVsXA_qRV",
        "outputId": "2f690930-9009-4e73-cf3e-115e9e244574"
      },
      "execution_count": 13,
      "outputs": [
        {
          "output_type": "execute_result",
          "data": {
            "text/plain": [
              "31"
            ]
          },
          "metadata": {},
          "execution_count": 13
        }
      ]
    },
    {
      "cell_type": "code",
      "source": [
        "alcohol[np.isnan]"
      ],
      "metadata": {
        "colab": {
          "base_uri": "https://localhost:8080/"
        },
        "id": "tDk2lABK_z7S",
        "outputId": "803bb6d8-41a0-4cac-ebd6-c9c236bd50b2"
      },
      "execution_count": 14,
      "outputs": [
        {
          "output_type": "execute_result",
          "data": {
            "text/plain": [
              "country\n",
              "Afghanistan        NaN\n",
              "Bangladesh         NaN\n",
              "Bhutan             NaN\n",
              "Burundi            NaN\n",
              "North Korea        NaN\n",
              "Eritrea            NaN\n",
              "Ethiopia           NaN\n",
              "India              NaN\n",
              "Indonesia          NaN\n",
              "Iran               NaN\n",
              "Iraq               NaN\n",
              "Kuwait             NaN\n",
              "Lesotho            NaN\n",
              "Libya              NaN\n",
              "Malaysia           NaN\n",
              "Maldives           NaN\n",
              "Marshall Islands   NaN\n",
              "Mauritania         NaN\n",
              "Monaco             NaN\n",
              "Myanmar            NaN\n",
              "Nepal              NaN\n",
              "Pakistan           NaN\n",
              "Rwanda             NaN\n",
              "San Marino         NaN\n",
              "Saudi Arabia       NaN\n",
              "Somalia            NaN\n",
              "Sri Lanka          NaN\n",
              "Sudan              NaN\n",
              "Tajikistan         NaN\n",
              "Uganda             NaN\n",
              "Yemen              NaN\n",
              "Name: wine_servings, dtype: float64"
            ]
          },
          "metadata": {},
          "execution_count": 14
        }
      ]
    },
    {
      "cell_type": "code",
      "source": [
        "alcohol[np.isnan].size"
      ],
      "metadata": {
        "colab": {
          "base_uri": "https://localhost:8080/"
        },
        "id": "xsHMkTlxA0hU",
        "outputId": "823e162b-903f-4009-8461-45128a96df40"
      },
      "execution_count": 15,
      "outputs": [
        {
          "output_type": "execute_result",
          "data": {
            "text/plain": [
              "31"
            ]
          },
          "metadata": {},
          "execution_count": 15
        }
      ]
    },
    {
      "cell_type": "code",
      "source": [],
      "metadata": {
        "id": "r_uHpoNdA5Ft"
      },
      "execution_count": null,
      "outputs": []
    }
  ]
}