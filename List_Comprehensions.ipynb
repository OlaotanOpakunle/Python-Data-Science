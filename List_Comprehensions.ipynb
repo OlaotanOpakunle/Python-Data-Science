{
  "nbformat": 4,
  "nbformat_minor": 0,
  "metadata": {
    "colab": {
      "provenance": [],
      "authorship_tag": "ABX9TyPDcfxz2zrzPWNCU1BWMwlK",
      "include_colab_link": true
    },
    "kernelspec": {
      "name": "python3",
      "display_name": "Python 3"
    },
    "language_info": {
      "name": "python"
    }
  },
  "cells": [
    {
      "cell_type": "markdown",
      "metadata": {
        "id": "view-in-github",
        "colab_type": "text"
      },
      "source": [
        "<a href=\"https://colab.research.google.com/github/OlaotanOpakunle/Python-Data-Science/blob/main/List_Comprehensions.ipynb\" target=\"_parent\"><img src=\"https://colab.research.google.com/assets/colab-badge.svg\" alt=\"Open In Colab\"/></a>"
      ]
    },
    {
      "cell_type": "code",
      "execution_count": 1,
      "metadata": {
        "id": "Jt_Q9zWphLT7"
      },
      "outputs": [],
      "source": [
        "numbers = [10, 2, 4, 12, 13, 1, 712, 23, 2, 192]\n",
        "\n",
        "students = [{\"name\" : \"Andrea\", \"score\" : 90},\n",
        "            {\"name\" : \"Astrid\", \"score\" : 76},\n",
        "            {\"name\" : \"Beatrice\", \"score\" : 64},\n",
        "            {\"name\" : \"Brenda\", \"score\" : 96}            \n",
        "            ]\n",
        "        \n",
        "#Q1: create a list containing all the odd integers in numbers\n",
        "#Q2: Create a list of all the students who scored more than 90"
      ]
    },
    {
      "cell_type": "code",
      "source": [
        "odds = []\n",
        "for number in numbers:\n",
        "  if number % 2 == 1:\n",
        "    odds.append(number)"
      ],
      "metadata": {
        "id": "Cx9agkrWiVdx"
      },
      "execution_count": 2,
      "outputs": []
    },
    {
      "cell_type": "code",
      "source": [
        "odds"
      ],
      "metadata": {
        "colab": {
          "base_uri": "https://localhost:8080/"
        },
        "id": "9Pjbaqvoi_B3",
        "outputId": "937da8ce-1f90-4a38-947c-1e785fda9d37"
      },
      "execution_count": 3,
      "outputs": [
        {
          "output_type": "execute_result",
          "data": {
            "text/plain": [
              "[13, 1, 23]"
            ]
          },
          "metadata": {},
          "execution_count": 3
        }
      ]
    },
    {
      "cell_type": "code",
      "source": [
        "[number for number in numbers]"
      ],
      "metadata": {
        "colab": {
          "base_uri": "https://localhost:8080/"
        },
        "id": "82SqipyXg7bM",
        "outputId": "ae22bb49-9071-42b2-ccb8-6e6bd78be3fc"
      },
      "execution_count": 5,
      "outputs": [
        {
          "output_type": "execute_result",
          "data": {
            "text/plain": [
              "[10, 2, 4, 12, 13, 1, 712, 23, 2, 192]"
            ]
          },
          "metadata": {},
          "execution_count": 5
        }
      ]
    },
    {
      "cell_type": "code",
      "source": [
        "[number for number in numbers if number%2 ==1]"
      ],
      "metadata": {
        "colab": {
          "base_uri": "https://localhost:8080/"
        },
        "id": "5942dygXhoUs",
        "outputId": "0925f62a-5ce2-43cd-a267-19d969f160b6"
      },
      "execution_count": 10,
      "outputs": [
        {
          "output_type": "execute_result",
          "data": {
            "text/plain": [
              "[13, 1, 23]"
            ]
          },
          "metadata": {},
          "execution_count": 10
        }
      ]
    },
    {
      "cell_type": "code",
      "source": [
        "#Q2"
      ],
      "metadata": {
        "id": "JwvDmw-thybJ"
      },
      "execution_count": 11,
      "outputs": []
    },
    {
      "cell_type": "code",
      "source": [
        "students"
      ],
      "metadata": {
        "colab": {
          "base_uri": "https://localhost:8080/"
        },
        "id": "S7io0AcUicsY",
        "outputId": "2e5e9235-c8d9-49ff-bc94-67e8419e34ea"
      },
      "execution_count": 12,
      "outputs": [
        {
          "output_type": "execute_result",
          "data": {
            "text/plain": [
              "[{'name': 'Andrea', 'score': 90},\n",
              " {'name': 'Astrid', 'score': 76},\n",
              " {'name': 'Beatrice', 'score': 64},\n",
              " {'name': 'Brenda', 'score': 96}]"
            ]
          },
          "metadata": {},
          "execution_count": 12
        }
      ]
    },
    {
      "cell_type": "code",
      "source": [
        "[student for student in students if student.get(\"score\") >= 90]"
      ],
      "metadata": {
        "colab": {
          "base_uri": "https://localhost:8080/"
        },
        "id": "3Ept2lHRid32",
        "outputId": "6e76b859-ab7f-457f-a545-fc382ab3c82a"
      },
      "execution_count": 18,
      "outputs": [
        {
          "output_type": "execute_result",
          "data": {
            "text/plain": [
              "[{'name': 'Andrea', 'score': 90}, {'name': 'Brenda', 'score': 96}]"
            ]
          },
          "metadata": {},
          "execution_count": 18
        }
      ]
    },
    {
      "cell_type": "code",
      "source": [
        "[student for student in students if student.get(\"name\") == \"Brenda\"]"
      ],
      "metadata": {
        "colab": {
          "base_uri": "https://localhost:8080/"
        },
        "id": "hL-6OmTmikVa",
        "outputId": "1e9bbf5d-2dd7-4502-9453-07bcc1fa40b1"
      },
      "execution_count": 20,
      "outputs": [
        {
          "output_type": "execute_result",
          "data": {
            "text/plain": [
              "[{'name': 'Brenda', 'score': 96}]"
            ]
          },
          "metadata": {},
          "execution_count": 20
        }
      ]
    },
    {
      "cell_type": "code",
      "source": [
        "[student.get(\"name\") for student in students if student.get(\"name\") == \"Brenda\"]"
      ],
      "metadata": {
        "colab": {
          "base_uri": "https://localhost:8080/"
        },
        "id": "-klZLphQjOWp",
        "outputId": "179636c8-e7b8-455a-e854-e5be9c3c8fac"
      },
      "execution_count": 21,
      "outputs": [
        {
          "output_type": "execute_result",
          "data": {
            "text/plain": [
              "['Brenda']"
            ]
          },
          "metadata": {},
          "execution_count": 21
        }
      ]
    },
    {
      "cell_type": "code",
      "source": [
        "[student.get(\"name\") for student in students if student.get(\"score\") >= 90]"
      ],
      "metadata": {
        "colab": {
          "base_uri": "https://localhost:8080/"
        },
        "id": "eU54IW73jl62",
        "outputId": "22abe702-0d5b-438f-d890-acfa93b9d809"
      },
      "execution_count": 23,
      "outputs": [
        {
          "output_type": "execute_result",
          "data": {
            "text/plain": [
              "['Andrea', 'Brenda']"
            ]
          },
          "metadata": {},
          "execution_count": 23
        }
      ]
    },
    {
      "cell_type": "code",
      "source": [],
      "metadata": {
        "id": "7HEOcSqcjtzr"
      },
      "execution_count": null,
      "outputs": []
    }
  ]
}