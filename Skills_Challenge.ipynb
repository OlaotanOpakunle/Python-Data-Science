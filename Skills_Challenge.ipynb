{
  "nbformat": 4,
  "nbformat_minor": 0,
  "metadata": {
    "colab": {
      "provenance": [],
      "authorship_tag": "ABX9TyPFYAnugwu9zOEWuPBtLwMc",
      "include_colab_link": true
    },
    "kernelspec": {
      "name": "python3",
      "display_name": "Python 3"
    },
    "language_info": {
      "name": "python"
    }
  },
  "cells": [
    {
      "cell_type": "markdown",
      "metadata": {
        "id": "view-in-github",
        "colab_type": "text"
      },
      "source": [
        "<a href=\"https://colab.research.google.com/github/OlaotanOpakunle/Python-Data-Science/blob/main/Skills_Challenge.ipynb\" target=\"_parent\"><img src=\"https://colab.research.google.com/assets/colab-badge.svg\" alt=\"Open In Colab\"/></a>"
      ]
    },
    {
      "cell_type": "code",
      "execution_count": 1,
      "metadata": {
        "id": "V2zlFo24L1-8"
      },
      "outputs": [],
      "source": [
        "actorNames = [\"Leonardo Dicapro\", \"Ryan Reynolds\", \"Edward Norton\", \"Brad Pitt\"]"
      ]
    },
    {
      "cell_type": "code",
      "source": [
        "import pandas as pd"
      ],
      "metadata": {
        "id": "EG7vfL2nMmxZ"
      },
      "execution_count": 2,
      "outputs": []
    },
    {
      "cell_type": "code",
      "source": [
        "actorAges = [51, 39, 52, 55]"
      ],
      "metadata": {
        "id": "cMZwFRbeMpLw"
      },
      "execution_count": 3,
      "outputs": []
    },
    {
      "cell_type": "code",
      "source": [
        "actors = pd.Series(data = actorAges, index = actorNames, name = \"theActors\")"
      ],
      "metadata": {
        "id": "c_L1FEOnM57P"
      },
      "execution_count": 26,
      "outputs": []
    },
    {
      "cell_type": "code",
      "source": [
        "actors"
      ],
      "metadata": {
        "colab": {
          "base_uri": "https://localhost:8080/"
        },
        "id": "f7tQ91EnNXgF",
        "outputId": "01024cfc-0585-47fa-9e9b-69450716828c"
      },
      "execution_count": 27,
      "outputs": [
        {
          "output_type": "execute_result",
          "data": {
            "text/plain": [
              "Leonardo Dicapro    51\n",
              "Ryan Reynolds       39\n",
              "Edward Norton       52\n",
              "Brad Pitt           55\n",
              "Name: theActors, dtype: int64"
            ]
          },
          "metadata": {},
          "execution_count": 27
        }
      ]
    },
    {
      "cell_type": "code",
      "source": [
        "actorsDict = {}"
      ],
      "metadata": {
        "id": "MGkS8FQnNqqf"
      },
      "execution_count": 12,
      "outputs": []
    },
    {
      "cell_type": "code",
      "source": [
        "actorsDict[\"name\"] = actorNames"
      ],
      "metadata": {
        "id": "qiXSnctjOwOy"
      },
      "execution_count": 21,
      "outputs": []
    },
    {
      "cell_type": "code",
      "source": [
        "actorsDict"
      ],
      "metadata": {
        "colab": {
          "base_uri": "https://localhost:8080/"
        },
        "id": "X2-BsKWoP7vB",
        "outputId": "77de6ecf-5683-4204-8464-578cbbd2ce2e"
      },
      "execution_count": 22,
      "outputs": [
        {
          "output_type": "execute_result",
          "data": {
            "text/plain": [
              "{'name': ['Leonardo Dicapro', 'Ryan Reynolds', 'Edward Norton', 'Brad Pitt']}"
            ]
          },
          "metadata": {},
          "execution_count": 22
        }
      ]
    },
    {
      "cell_type": "code",
      "source": [
        "actorsDict[\"ages\"] = actorAges"
      ],
      "metadata": {
        "id": "E4DxRW4xRFvD"
      },
      "execution_count": 23,
      "outputs": []
    },
    {
      "cell_type": "code",
      "source": [
        "actorsDict"
      ],
      "metadata": {
        "colab": {
          "base_uri": "https://localhost:8080/"
        },
        "id": "Ml2HePHjRMFf",
        "outputId": "bbc33a40-48fb-4cbd-c319-10cd27a6cf67"
      },
      "execution_count": 24,
      "outputs": [
        {
          "output_type": "execute_result",
          "data": {
            "text/plain": [
              "{'name': ['Leonardo Dicapro', 'Ryan Reynolds', 'Edward Norton', 'Brad Pitt'],\n",
              " 'ages': [51, 39, 52, 55]}"
            ]
          },
          "metadata": {},
          "execution_count": 24
        }
      ]
    },
    {
      "cell_type": "code",
      "source": [
        "list(actorsDict)"
      ],
      "metadata": {
        "colab": {
          "base_uri": "https://localhost:8080/"
        },
        "id": "_KBp8gtTRXQ1",
        "outputId": "7b589dc2-ff36-4428-dc9b-5bec6f238eab"
      },
      "execution_count": 29,
      "outputs": [
        {
          "output_type": "execute_result",
          "data": {
            "text/plain": [
              "['name', 'ages']"
            ]
          },
          "metadata": {},
          "execution_count": 29
        }
      ]
    },
    {
      "cell_type": "code",
      "source": [
        "zip(actorNames, actorAges)"
      ],
      "metadata": {
        "colab": {
          "base_uri": "https://localhost:8080/"
        },
        "id": "DtjlSM1rSQti",
        "outputId": "bddf8397-e932-4000-fefd-127a97e35fbd"
      },
      "execution_count": 30,
      "outputs": [
        {
          "output_type": "execute_result",
          "data": {
            "text/plain": [
              "<zip at 0x7f9512659f50>"
            ]
          },
          "metadata": {},
          "execution_count": 30
        }
      ]
    },
    {
      "cell_type": "code",
      "source": [
        "list(zip(actorNames, actorAges))"
      ],
      "metadata": {
        "colab": {
          "base_uri": "https://localhost:8080/"
        },
        "id": "fMXBUYr7SszJ",
        "outputId": "b939090f-0535-40b3-f6ee-3cd323716de3"
      },
      "execution_count": 31,
      "outputs": [
        {
          "output_type": "execute_result",
          "data": {
            "text/plain": [
              "[('Leonardo Dicapro', 51),\n",
              " ('Ryan Reynolds', 39),\n",
              " ('Edward Norton', 52),\n",
              " ('Brad Pitt', 55)]"
            ]
          },
          "metadata": {},
          "execution_count": 31
        }
      ]
    },
    {
      "cell_type": "code",
      "source": [
        "dict(zip(actorNames, actorAges))"
      ],
      "metadata": {
        "colab": {
          "base_uri": "https://localhost:8080/"
        },
        "id": "E4dJAXe0Swwn",
        "outputId": "020c76fe-b8b8-4ef0-a2da-220db8d65fe1"
      },
      "execution_count": 32,
      "outputs": [
        {
          "output_type": "execute_result",
          "data": {
            "text/plain": [
              "{'Leonardo Dicapro': 51,\n",
              " 'Ryan Reynolds': 39,\n",
              " 'Edward Norton': 52,\n",
              " 'Brad Pitt': 55}"
            ]
          },
          "metadata": {},
          "execution_count": 32
        }
      ]
    },
    {
      "cell_type": "code",
      "source": [
        "pd.Series(dict(zip(actorNames, actorAges)))"
      ],
      "metadata": {
        "colab": {
          "base_uri": "https://localhost:8080/"
        },
        "id": "Ruunpw2WS_2w",
        "outputId": "e81ca706-5000-4b07-c980-0c0b59673a36"
      },
      "execution_count": 33,
      "outputs": [
        {
          "output_type": "execute_result",
          "data": {
            "text/plain": [
              "Leonardo Dicapro    51\n",
              "Ryan Reynolds       39\n",
              "Edward Norton       52\n",
              "Brad Pitt           55\n",
              "dtype: int64"
            ]
          },
          "metadata": {},
          "execution_count": 33
        }
      ]
    },
    {
      "cell_type": "code",
      "source": [
        "# Passed"
      ],
      "metadata": {
        "id": "7FFyyf41THri"
      },
      "execution_count": 34,
      "outputs": []
    },
    {
      "cell_type": "code",
      "source": [],
      "metadata": {
        "id": "LZNSkR6_TN-v"
      },
      "execution_count": null,
      "outputs": []
    }
  ]
}