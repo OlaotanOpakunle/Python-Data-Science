{
  "nbformat": 4,
  "nbformat_minor": 0,
  "metadata": {
    "colab": {
      "provenance": [],
      "authorship_tag": "ABX9TyNhE/fr7vyIJVoK4UTupwqH",
      "include_colab_link": true
    },
    "kernelspec": {
      "name": "python3",
      "display_name": "Python 3"
    },
    "language_info": {
      "name": "python"
    }
  },
  "cells": [
    {
      "cell_type": "markdown",
      "metadata": {
        "id": "view-in-github",
        "colab_type": "text"
      },
      "source": [
        "<a href=\"https://colab.research.google.com/github/OlaotanOpakunle/Python-Data-Science/blob/main/For_Loops.ipynb\" target=\"_parent\"><img src=\"https://colab.research.google.com/assets/colab-badge.svg\" alt=\"Open In Colab\"/></a>"
      ]
    },
    {
      "cell_type": "code",
      "execution_count": 1,
      "metadata": {
        "colab": {
          "base_uri": "https://localhost:8080/"
        },
        "id": "uZzDs4QrMC-o",
        "outputId": "35c4d806-040e-4652-8e6c-e875f1a513c2"
      },
      "outputs": [
        {
          "output_type": "stream",
          "name": "stdout",
          "text": [
            "hey, welcome\n",
            "this is python\n",
            "pandas is coming soon\n"
          ]
        }
      ],
      "source": [
        "should_greet = True\n",
        "\n",
        "greetings = ['hey, welcome', 'this is python', 'pandas is coming soon']\n",
        "\n",
        "language = 'python'\n",
        "\n",
        "if (should_greet):\n",
        "  print(greetings[0])\n",
        "  print(greetings[1])\n",
        "  print(greetings[2])\n",
        "  "
      ]
    },
    {
      "cell_type": "code",
      "source": [
        "for greeting in greetings:\n",
        "  print(greeting)"
      ],
      "metadata": {
        "colab": {
          "base_uri": "https://localhost:8080/"
        },
        "id": "ZHacR794NueO",
        "outputId": "c28ac28d-10c5-4a81-f8e9-52535e83f303"
      },
      "execution_count": 2,
      "outputs": [
        {
          "output_type": "stream",
          "name": "stdout",
          "text": [
            "hey, welcome\n",
            "this is python\n",
            "pandas is coming soon\n"
          ]
        }
      ]
    },
    {
      "cell_type": "code",
      "source": [
        "for char in language:\n",
        "  print(char)"
      ],
      "metadata": {
        "colab": {
          "base_uri": "https://localhost:8080/"
        },
        "id": "ZNuQLxSXOKt1",
        "outputId": "c48cd737-a5f7-4a13-f20f-06b6b3d4921c"
      },
      "execution_count": 3,
      "outputs": [
        {
          "output_type": "stream",
          "name": "stdout",
          "text": [
            "p\n",
            "y\n",
            "t\n",
            "h\n",
            "o\n",
            "n\n"
          ]
        }
      ]
    },
    {
      "cell_type": "code",
      "source": [],
      "metadata": {
        "id": "wRgxSGAlOXg3"
      },
      "execution_count": null,
      "outputs": []
    }
  ]
}