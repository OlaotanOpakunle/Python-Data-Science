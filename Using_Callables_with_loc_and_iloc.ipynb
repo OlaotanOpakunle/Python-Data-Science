{
  "nbformat": 4,
  "nbformat_minor": 0,
  "metadata": {
    "colab": {
      "provenance": [],
      "authorship_tag": "ABX9TyPTVLmf5XrEfxrIrSjZaZ9t",
      "include_colab_link": true
    },
    "kernelspec": {
      "name": "python3",
      "display_name": "Python 3"
    },
    "language_info": {
      "name": "python"
    }
  },
  "cells": [
    {
      "cell_type": "markdown",
      "metadata": {
        "id": "view-in-github",
        "colab_type": "text"
      },
      "source": [
        "<a href=\"https://colab.research.google.com/github/OlaotanOpakunle/Python-Data-Science/blob/main/Using_Callables_with_loc_and_iloc.ipynb\" target=\"_parent\"><img src=\"https://colab.research.google.com/assets/colab-badge.svg\" alt=\"Open In Colab\"/></a>"
      ]
    },
    {
      "cell_type": "code",
      "execution_count": 1,
      "metadata": {
        "id": "PUlftgjNCmYT"
      },
      "outputs": [],
      "source": [
        "import pandas as pd\n",
        "import numpy as np\n",
        "from string import ascii_uppercase\n",
        "from string import ascii_lowercase"
      ]
    },
    {
      "cell_type": "code",
      "source": [
        "labelledAlpha = pd.Series(data = list(ascii_lowercase), index = map(lambda x: \"label_\" + x, list(ascii_uppercase)))"
      ],
      "metadata": {
        "id": "0Exu-uw2DK0S"
      },
      "execution_count": 2,
      "outputs": []
    },
    {
      "cell_type": "code",
      "source": [
        "labelledAlpha.loc[\"label_H\"]"
      ],
      "metadata": {
        "colab": {
          "base_uri": "https://localhost:8080/",
          "height": 35
        },
        "id": "uct_sM69DNrg",
        "outputId": "42676859-7e20-4895-d54f-b1f1a8aecec7"
      },
      "execution_count": 3,
      "outputs": [
        {
          "output_type": "execute_result",
          "data": {
            "text/plain": [
              "'h'"
            ],
            "application/vnd.google.colaboratory.intrinsic+json": {
              "type": "string"
            }
          },
          "metadata": {},
          "execution_count": 3
        }
      ]
    },
    {
      "cell_type": "code",
      "source": [
        "labelledAlpha.loc[lambda x: \"label_V\"]"
      ],
      "metadata": {
        "colab": {
          "base_uri": "https://localhost:8080/",
          "height": 35
        },
        "id": "Y9a3D80XDVPe",
        "outputId": "ca5ea48d-ac36-4108-e0a9-7f6c8c0cf080"
      },
      "execution_count": 4,
      "outputs": [
        {
          "output_type": "execute_result",
          "data": {
            "text/plain": [
              "'v'"
            ],
            "application/vnd.google.colaboratory.intrinsic+json": {
              "type": "string"
            }
          },
          "metadata": {},
          "execution_count": 4
        }
      ]
    },
    {
      "cell_type": "code",
      "source": [
        "labelledAlpha.loc[lambda x: [\"label_V\", \"label_A\"]]"
      ],
      "metadata": {
        "colab": {
          "base_uri": "https://localhost:8080/"
        },
        "id": "osPfThu1DeOJ",
        "outputId": "a619bb90-dce8-45f3-bd0b-daaaeabc2175"
      },
      "execution_count": 5,
      "outputs": [
        {
          "output_type": "execute_result",
          "data": {
            "text/plain": [
              "label_V    v\n",
              "label_A    a\n",
              "dtype: object"
            ]
          },
          "metadata": {},
          "execution_count": 5
        }
      ]
    },
    {
      "cell_type": "code",
      "source": [
        "labelledAlpha.loc[lambda x: [True for i in range(x.size)]]"
      ],
      "metadata": {
        "colab": {
          "base_uri": "https://localhost:8080/"
        },
        "id": "vI2Jiiv9D0oE",
        "outputId": "5c703ce8-814e-4524-bb8b-7ec58983852a"
      },
      "execution_count": 6,
      "outputs": [
        {
          "output_type": "execute_result",
          "data": {
            "text/plain": [
              "label_A    a\n",
              "label_B    b\n",
              "label_C    c\n",
              "label_D    d\n",
              "label_E    e\n",
              "label_F    f\n",
              "label_G    g\n",
              "label_H    h\n",
              "label_I    i\n",
              "label_J    j\n",
              "label_K    k\n",
              "label_L    l\n",
              "label_M    m\n",
              "label_N    n\n",
              "label_O    o\n",
              "label_P    p\n",
              "label_Q    q\n",
              "label_R    r\n",
              "label_S    s\n",
              "label_T    t\n",
              "label_U    u\n",
              "label_V    v\n",
              "label_W    w\n",
              "label_X    x\n",
              "label_Y    y\n",
              "label_Z    z\n",
              "dtype: object"
            ]
          },
          "metadata": {},
          "execution_count": 6
        }
      ]
    },
    {
      "cell_type": "code",
      "source": [
        "def everyFifth(x):\n",
        "  return [True if (i+1)%5==0 else False for i in range(x.size)]"
      ],
      "metadata": {
        "id": "vTne_tkgETwU"
      },
      "execution_count": 12,
      "outputs": []
    },
    {
      "cell_type": "code",
      "source": [
        "labelledAlpha.iloc[everyFifth]"
      ],
      "metadata": {
        "colab": {
          "base_uri": "https://localhost:8080/"
        },
        "id": "JdihIuMWE5_C",
        "outputId": "dd21ab7d-09bc-4667-99eb-3c84e39ae845"
      },
      "execution_count": 13,
      "outputs": [
        {
          "output_type": "execute_result",
          "data": {
            "text/plain": [
              "label_E    e\n",
              "label_J    j\n",
              "label_O    o\n",
              "label_T    t\n",
              "label_Y    y\n",
              "dtype: object"
            ]
          },
          "metadata": {},
          "execution_count": 13
        }
      ]
    },
    {
      "cell_type": "code",
      "source": [],
      "metadata": {
        "id": "1d3EYc57E9VR"
      },
      "execution_count": null,
      "outputs": []
    }
  ]
}